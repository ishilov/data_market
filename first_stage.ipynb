{
 "cells": [
  {
   "cell_type": "code",
   "execution_count": 1,
   "metadata": {},
   "outputs": [],
   "source": [
    "import gurobipy as gp\n",
    "import numpy as np\n",
    "import pandas as pd\n",
    "from scipy import stats\n",
    "\n",
    "\n",
    "from gurobi_implementation import GurobiSolution\n",
    "from data_market import Seller, MarketOperator, Market, Buyer\n",
    "from p2p_gurobi import Agents, FirstStageMarket"
   ]
  },
  {
   "cell_type": "code",
   "execution_count": 2,
   "metadata": {},
   "outputs": [],
   "source": [
    "import matplotlib.pyplot as plt\n",
    "\n",
    "import seaborn as sns\n",
    "sns.set()"
   ]
  },
  {
   "cell_type": "code",
   "execution_count": 3,
   "metadata": {},
   "outputs": [],
   "source": [
    "connection_matrix = [[0, 1, 1, 1, 1],\n",
    "                    [1, 0, 1, 1, 1],\n",
    "                    [1, 1, 0, 1, 1],\n",
    "                    [1, 1, 1, 0, 1],\n",
    "                    [1, 1, 1, 1, 0]]\n",
    "\n",
    "kappa = [[0, 10, 10, 10, 10],\n",
    "        [10, 0, 10, 10, 10],\n",
    "        [10, 10, 0, 10, 10],\n",
    "        [10, 10, 10, 0, 10],\n",
    "        [10, 10, 10, 10, 0]]                   "
   ]
  },
  {
   "cell_type": "code",
   "execution_count": 4,
   "metadata": {},
   "outputs": [],
   "source": [
    "#model_1\n",
    "actual_generations = [3, 4, 5, 4, 3]\n",
    "demand = [6, 7, 8, 9, 10]\n",
    "\n",
    "price_da_buy = 3\n",
    "price_da_sell = 2\n",
    "price_rt_buy = 4\n",
    "price_rt_sell = 1\n",
    "\n",
    "base_forecasts = [stats.norm(loc = generation, scale = 1.0) for generation in actual_generations]\n",
    "\n",
    "agents_forecasts = []\n",
    "for base_forecast in base_forecasts:\n",
    "    probas, values = np.histogram(base_forecasts[0].rvs(100000), bins = 100, density = True)\n",
    "    probas = probas / probas.sum()\n",
    "    agents_forecasts.append((probas, values))\n",
    "\n",
    "agents = []\n",
    "for id, actual_generation in enumerate(actual_generations):\n",
    "    agent = Agents(id = id,\n",
    "                probabilities = agents_forecasts[id][0],\n",
    "                generation_values = agents_forecasts[id][1],\n",
    "                demand = demand[id],\n",
    "                connections = connection_matrix[id],\n",
    "                kappa = kappa[id])\n",
    "\n",
    "    agents.append(agent)"
   ]
  },
  {
   "cell_type": "code",
   "execution_count": 5,
   "metadata": {},
   "outputs": [],
   "source": [
    "model_1 = gp.Model()"
   ]
  },
  {
   "cell_type": "code",
   "execution_count": 6,
   "metadata": {},
   "outputs": [],
   "source": [
    "market_1 = FirstStageMarket(agents= agents,\n",
    "                            model = model_1,\n",
    "                            price_da_buy = price_da_buy,\n",
    "                            price_da_sell = price_da_sell,\n",
    "                            price_rt_buy = price_rt_buy,\n",
    "                            price_rt_sell = price_rt_sell)"
   ]
  },
  {
   "cell_type": "code",
   "execution_count": 7,
   "metadata": {},
   "outputs": [],
   "source": [
    "market_1.build_model()"
   ]
  },
  {
   "cell_type": "code",
   "execution_count": 8,
   "metadata": {},
   "outputs": [
    {
     "name": "stdout",
     "output_type": "stream",
     "text": [
      "Gurobi Optimizer version 9.5.0 build v9.5.0rc5 (mac64[arm])\n",
      "Thread count: 8 physical cores, 8 logical processors, using up to 8 threads\n",
      "Optimize a model with 525 rows, 1035 columns and 2565 nonzeros\n",
      "Model fingerprint: 0xb4254e86\n",
      "Coefficient statistics:\n",
      "  Matrix range     [1e+00, 1e+00]\n",
      "  Objective range  [1e-05, 3e+00]\n",
      "  Bounds range     [1e+01, 1e+01]\n",
      "  RHS range        [3e-02, 1e+01]\n",
      "Presolve removed 35 rows and 50 columns\n",
      "Presolve time: 0.00s\n",
      "Presolved: 490 rows, 985 columns, 2440 nonzeros\n",
      "\n",
      "Iteration    Objective       Primal Inf.    Dual Inf.      Time\n",
      "       0      handle free variables                          0s\n",
      "     786    8.1139457e+01   0.000000e+00   0.000000e+00      0s\n",
      "\n",
      "Solved in 786 iterations and 0.01 seconds (0.01 work units)\n",
      "Optimal objective  8.113945691e+01\n"
     ]
    }
   ],
   "source": [
    "model_1.optimize()"
   ]
  },
  {
   "cell_type": "code",
   "execution_count": 9,
   "metadata": {},
   "outputs": [],
   "source": [
    "def second_stage_resolution(model, agents, actual_generations):\n",
    "    second_stage_decisions = []\n",
    "    actual_costs = []\n",
    "    for agent in agents:\n",
    "        second_stage_decision = (agent.demand \n",
    "                                - actual_generations[agent.id] \n",
    "                                - model.getVarByName(f'Agent {agent.id} day-ahead purchase').X\n",
    "                                + model.getVarByName(f'Agent {agent.id} day-ahead sale').X\n",
    "                                - model.getVarByName(f'Agent {agent.id} net trading').X)\n",
    "\n",
    "        second_stage_cost = price_rt_buy * second_stage_decision if second_stage_decision > 0 else price_rt_sell * second_stage_decision\n",
    "\n",
    "        second_stage_decisions.append(second_stage_decision)\n",
    "\n",
    "        actual_cost = (price_da_buy * model.getVarByName(f'Agent {agent.id} day-ahead purchase').X \n",
    "                    - price_da_sell * model.getVarByName(f'Agent {agent.id} day-ahead sale').X\n",
    "                    + second_stage_cost )\n",
    "\n",
    "\n",
    "        actual_costs.append(actual_cost)\n",
    "\n",
    "    return second_stage_decisions, actual_costs\n",
    "        "
   ]
  },
  {
   "cell_type": "code",
   "execution_count": 10,
   "metadata": {},
   "outputs": [
    {
     "data": {
      "text/plain": [
       "([0.36878395342717774,\n",
       "  -0.6302837319265411,\n",
       "  -1.589484770976938,\n",
       "  -0.6365429267929299,\n",
       "  0.37383815928408115],\n",
       " [1.475135813708711,\n",
       "  -0.6302837319265411,\n",
       "  67.75158317997851,\n",
       "  -0.6365429267929299,\n",
       "  1.4953526371363246])"
      ]
     },
     "execution_count": 10,
     "metadata": {},
     "output_type": "execute_result"
    }
   ],
   "source": [
    "second_stage_resolution(model_1, agents, actual_generations)"
   ]
  },
  {
   "cell_type": "code",
   "execution_count": 11,
   "metadata": {},
   "outputs": [
    {
     "data": {
      "text/plain": [
       "([0.36878395342717774,\n",
       "  -0.6302837319265411,\n",
       "  -1.589484770976938,\n",
       "  -0.6365429267929299,\n",
       "  0.37383815928408115],\n",
       " [1.475135813708711,\n",
       "  -0.6302837319265411,\n",
       "  67.75158317997851,\n",
       "  -0.6365429267929299,\n",
       "  1.4953526371363246])"
      ]
     },
     "execution_count": 11,
     "metadata": {},
     "output_type": "execute_result"
    }
   ],
   "source": [
    "second_stage_resolution(model_1, agents, actual_generations)"
   ]
  },
  {
   "cell_type": "code",
   "execution_count": 12,
   "metadata": {},
   "outputs": [
    {
     "data": {
      "text/plain": [
       "69.45524497210407"
      ]
     },
     "execution_count": 12,
     "metadata": {},
     "output_type": "execute_result"
    }
   ],
   "source": [
    "sum(second_stage_resolution(model_1, agents, actual_generations)[1])"
   ]
  },
  {
   "cell_type": "code",
   "execution_count": 13,
   "metadata": {},
   "outputs": [],
   "source": [
    "#model_2\n",
    "actual_generations = [3, 4, 5, 4, 3]\n",
    "demand = [6, 7, 8, 9, 10]\n",
    "\n",
    "price_da_buy = 3\n",
    "price_da_sell = 2\n",
    "price_rt_buy = 4\n",
    "price_rt_sell = 1\n",
    "\n",
    "base_forecasts = [stats.norm(loc = generation, scale = 0.5) for generation in actual_generations]\n",
    "\n",
    "agents_forecasts = []\n",
    "for base_forecast in base_forecasts:\n",
    "    probas, values = np.histogram(base_forecasts[0].rvs(100000), bins = 100, density = True)\n",
    "    probas = probas / probas.sum()\n",
    "    agents_forecasts.append((probas, values))\n",
    "\n",
    "agents = []\n",
    "for id, actual_generation in enumerate(actual_generations):\n",
    "    agent = Agents(id = id,\n",
    "                probabilities = agents_forecasts[id][0],\n",
    "                generation_values = agents_forecasts[id][1],\n",
    "                demand = demand[id],\n",
    "                connections = connection_matrix[id],\n",
    "                kappa = kappa[id])\n",
    "\n",
    "    agents.append(agent)"
   ]
  },
  {
   "cell_type": "code",
   "execution_count": 14,
   "metadata": {},
   "outputs": [],
   "source": [
    "model_2 = gp.Model()\n",
    "\n",
    "market_2 = FirstStageMarket(agents= agents,\n",
    "                            model = model_2,\n",
    "                            price_da_buy = price_da_buy,\n",
    "                            price_da_sell = price_da_sell,\n",
    "                            price_rt_buy = price_rt_buy,\n",
    "                            price_rt_sell = price_rt_sell)"
   ]
  },
  {
   "cell_type": "code",
   "execution_count": 15,
   "metadata": {},
   "outputs": [],
   "source": [
    "market_2.build_model()"
   ]
  },
  {
   "cell_type": "code",
   "execution_count": 16,
   "metadata": {},
   "outputs": [
    {
     "name": "stdout",
     "output_type": "stream",
     "text": [
      "Gurobi Optimizer version 9.5.0 build v9.5.0rc5 (mac64[arm])\n",
      "Thread count: 8 physical cores, 8 logical processors, using up to 8 threads\n",
      "Optimize a model with 525 rows, 1035 columns and 2565 nonzeros\n",
      "Model fingerprint: 0xe3cc3853\n",
      "Coefficient statistics:\n",
      "  Matrix range     [1e+00, 1e+00]\n",
      "  Objective range  [1e-05, 3e+00]\n",
      "  Bounds range     [1e+01, 1e+01]\n",
      "  RHS range        [9e-01, 9e+00]\n",
      "Presolve removed 37 rows and 54 columns\n",
      "Presolve time: 0.00s\n",
      "Presolved: 488 rows, 981 columns, 2430 nonzeros\n",
      "\n",
      "Iteration    Objective       Primal Inf.    Dual Inf.      Time\n",
      "       0      handle free variables                          0s\n",
      "     728    7.8027231e+01   0.000000e+00   0.000000e+00      0s\n",
      "\n",
      "Solved in 728 iterations and 0.01 seconds (0.01 work units)\n",
      "Optimal objective  7.802723128e+01\n"
     ]
    }
   ],
   "source": [
    "model_2.optimize()"
   ]
  },
  {
   "cell_type": "code",
   "execution_count": 17,
   "metadata": {},
   "outputs": [
    {
     "data": {
      "text/plain": [
       "([0.1875959328993826,\n",
       "  -0.8237991814494707,\n",
       "  -1.798650312400346,\n",
       "  -0.8045350169824541,\n",
       "  0.1911091369606197],\n",
       " [0.7503837315975304,\n",
       "  -0.8237991814494707,\n",
       "  -1.798650312400346,\n",
       "  -0.8045350169824541,\n",
       "  72.90927487075928])"
      ]
     },
     "execution_count": 17,
     "metadata": {},
     "output_type": "execute_result"
    }
   ],
   "source": [
    "second_stage_resolution(model_2, agents, actual_generations)"
   ]
  },
  {
   "cell_type": "code",
   "execution_count": 18,
   "metadata": {},
   "outputs": [
    {
     "data": {
      "text/plain": [
       "70.23267409152453"
      ]
     },
     "execution_count": 18,
     "metadata": {},
     "output_type": "execute_result"
    }
   ],
   "source": [
    "sum(second_stage_resolution(model_2, agents, actual_generations)[1])"
   ]
  },
  {
   "cell_type": "code",
   "execution_count": 19,
   "metadata": {},
   "outputs": [],
   "source": [
    "#model_3\n",
    "actual_generations = [3, 4, 5, 4, 3]\n",
    "demand = [6, 7, 8, 9, 10]\n",
    "\n",
    "price_da_buy = 3\n",
    "price_da_sell = 2\n",
    "price_rt_buy = 4\n",
    "price_rt_sell = 1\n",
    "\n",
    "base_forecasts = [stats.norm(loc = generation, scale = 0.1) for generation in actual_generations]\n",
    "\n",
    "agents_forecasts = []\n",
    "for base_forecast in base_forecasts:\n",
    "    probas, values = np.histogram(base_forecasts[0].rvs(100000), bins = 100, density = True)\n",
    "    probas = probas / probas.sum()\n",
    "    agents_forecasts.append((probas, values))\n",
    "\n",
    "agents = []\n",
    "for id, actual_generation in enumerate(actual_generations):\n",
    "    agent = Agents(id = id,\n",
    "                probabilities = agents_forecasts[id][0],\n",
    "                generation_values = agents_forecasts[id][1],\n",
    "                demand = demand[id],\n",
    "                connections = connection_matrix[id],\n",
    "                kappa = kappa[id])\n",
    "\n",
    "    agents.append(agent)"
   ]
  },
  {
   "cell_type": "code",
   "execution_count": 20,
   "metadata": {},
   "outputs": [],
   "source": [
    "model_3 = gp.Model()\n",
    "\n",
    "market_3 = FirstStageMarket(agents= agents,\n",
    "                            model = model_3,\n",
    "                            price_da_buy = price_da_buy,\n",
    "                            price_da_sell = price_da_sell,\n",
    "                            price_rt_buy = price_rt_buy,\n",
    "                            price_rt_sell = price_rt_sell)"
   ]
  },
  {
   "cell_type": "code",
   "execution_count": 21,
   "metadata": {},
   "outputs": [
    {
     "name": "stdout",
     "output_type": "stream",
     "text": [
      "Gurobi Optimizer version 9.5.0 build v9.5.0rc5 (mac64[arm])\n",
      "Thread count: 8 physical cores, 8 logical processors, using up to 8 threads\n",
      "Optimize a model with 525 rows, 1035 columns and 2565 nonzeros\n",
      "Model fingerprint: 0x6060944f\n",
      "Coefficient statistics:\n",
      "  Matrix range     [1e+00, 1e+00]\n",
      "  Objective range  [1e-05, 3e+00]\n",
      "  Bounds range     [1e+01, 1e+01]\n",
      "  RHS range        [3e+00, 7e+00]\n",
      "Presolve removed 36 rows and 52 columns\n",
      "Presolve time: 0.00s\n",
      "Presolved: 489 rows, 983 columns, 2435 nonzeros\n",
      "\n",
      "Iteration    Objective       Primal Inf.    Dual Inf.      Time\n",
      "       0      handle free variables                          0s\n",
      "     726    7.5611336e+01   0.000000e+00   0.000000e+00      0s\n",
      "\n",
      "Solved in 726 iterations and 0.01 seconds (0.01 work units)\n",
      "Optimal objective  7.561133602e+01\n"
     ]
    }
   ],
   "source": [
    "market_3.build_model()\n",
    "model_3.optimize()"
   ]
  },
  {
   "cell_type": "code",
   "execution_count": 22,
   "metadata": {},
   "outputs": [
    {
     "data": {
      "text/plain": [
       "([0.041914953796013066,\n",
       "  -0.9614466313843666,\n",
       "  -1.9635470537497843,\n",
       "  -0.9652389868577735,\n",
       "  0.03840344676461438],\n",
       " [0.16765981518405226,\n",
       "  -0.9614466313843666,\n",
       "  -1.9635470537497843,\n",
       "  73.46450382743612,\n",
       "  0.15361378705845752])"
      ]
     },
     "execution_count": 22,
     "metadata": {},
     "output_type": "execute_result"
    }
   ],
   "source": [
    "second_stage_resolution(model_3, agents, actual_generations)"
   ]
  },
  {
   "cell_type": "code",
   "execution_count": 23,
   "metadata": {},
   "outputs": [
    {
     "data": {
      "text/plain": [
       "70.86078374454448"
      ]
     },
     "execution_count": 23,
     "metadata": {},
     "output_type": "execute_result"
    }
   ],
   "source": [
    "sum(second_stage_resolution(model_3, agents, actual_generations)[1])"
   ]
  },
  {
   "cell_type": "code",
   "execution_count": 25,
   "metadata": {},
   "outputs": [],
   "source": [
    "#model_4\n",
    "actual_generations = [3, 4, 5, 4, 3]\n",
    "demand = [6, 7, 8, 9, 10]\n",
    "\n",
    "price_da_buy = 3\n",
    "price_da_sell = 2\n",
    "price_rt_buy = 4\n",
    "price_rt_sell = 1\n",
    "\n",
    "base_forecasts = [stats.norm(loc = generation, scale = 0.0) for generation in actual_generations]\n",
    "\n",
    "agents_forecasts = []\n",
    "for base_forecast in base_forecasts:\n",
    "    probas, values = np.histogram(base_forecasts[0].rvs(100000), bins = 100, density = True)\n",
    "    probas = probas / probas.sum()\n",
    "    agents_forecasts.append((probas, values))\n",
    "\n",
    "agents = []\n",
    "for id, actual_generation in enumerate(actual_generations):\n",
    "    agent = Agents(id = id,\n",
    "                probabilities = agents_forecasts[id][0],\n",
    "                generation_values = agents_forecasts[id][1],\n",
    "                demand = demand[id],\n",
    "                connections = connection_matrix[id],\n",
    "                kappa = kappa[id])\n",
    "\n",
    "    agents.append(agent)"
   ]
  },
  {
   "cell_type": "code",
   "execution_count": 26,
   "metadata": {},
   "outputs": [
    {
     "name": "stdout",
     "output_type": "stream",
     "text": [
      "Gurobi Optimizer version 9.5.0 build v9.5.0rc5 (mac64[arm])\n",
      "Thread count: 8 physical cores, 8 logical processors, using up to 8 threads\n",
      "Optimize a model with 525 rows, 1035 columns and 2565 nonzeros\n",
      "Model fingerprint: 0x70753b3d\n",
      "Coefficient statistics:\n",
      "  Matrix range     [1e+00, 1e+00]\n",
      "  Objective range  [1e+00, 4e+00]\n",
      "  Bounds range     [1e+01, 1e+01]\n",
      "  RHS range        [3e+00, 8e+00]\n",
      "Presolve removed 515 rows and 1005 columns\n",
      "Presolve time: 0.00s\n",
      "Presolved: 10 rows, 30 columns, 70 nonzeros\n",
      "\n",
      "Iteration    Objective       Primal Inf.    Dual Inf.      Time\n",
      "       0   -1.5000000e+02   4.074500e+01   0.000000e+00      0s\n",
      "       7    7.5000000e+01   0.000000e+00   0.000000e+00      0s\n",
      "\n",
      "Solved in 7 iterations and 0.01 seconds (0.00 work units)\n",
      "Optimal objective  7.500000000e+01\n"
     ]
    }
   ],
   "source": [
    "model_4 = gp.Model()\n",
    "\n",
    "market_4 = FirstStageMarket(agents= agents,\n",
    "                            model = model_4,\n",
    "                            price_da_buy = price_da_buy,\n",
    "                            price_da_sell = price_da_sell,\n",
    "                            price_rt_buy = price_rt_buy,\n",
    "                            price_rt_sell = price_rt_sell)\n",
    "\n",
    "market_4.build_model()\n",
    "model_4.optimize()                            "
   ]
  },
  {
   "cell_type": "code",
   "execution_count": 27,
   "metadata": {},
   "outputs": [
    {
     "data": {
      "text/plain": [
       "([0.0, -1.0, -2.0, -1.0, 0.0], [36.0, -1.0, -2.0, 17.0, 21.0])"
      ]
     },
     "execution_count": 27,
     "metadata": {},
     "output_type": "execute_result"
    }
   ],
   "source": [
    "second_stage_resolution(model_4, agents, actual_generations)"
   ]
  },
  {
   "cell_type": "code",
   "execution_count": 29,
   "metadata": {},
   "outputs": [
    {
     "data": {
      "text/plain": [
       "71.0"
      ]
     },
     "execution_count": 29,
     "metadata": {},
     "output_type": "execute_result"
    }
   ],
   "source": [
    "sum(second_stage_resolution(model_4, agents, actual_generations)[1])"
   ]
  },
  {
   "cell_type": "code",
   "execution_count": 39,
   "metadata": {},
   "outputs": [
    {
     "name": "stdout",
     "output_type": "stream",
     "text": [
      "Model_1 net trades: [2.6312160465728223, 3.630283731926541, -18.524204546008214, 5.63654292679293, 6.626161840715919]\n",
      "Model_2 net trades: [2.8124040671006174, 3.8237991814494707, 4.798650312400346, 5.804535016982454, -17.239388577932885]\n",
      "Model_3 net trades: [2.958085046203987, 3.9614466313843666, 4.963547053749784, -18.844675284573523, 6.961596553235386]\n",
      "Model_4 net trades: [-9.0, 4.0, 5.0, 0.0, 0.0]\n"
     ]
    }
   ],
   "source": [
    "print('Model_1 net trades:', [model_1.getVarByName(f'Agent {id} net trading').X for id, _ in enumerate(agents)])\n",
    "print('Model_2 net trades:', [model_2.getVarByName(f'Agent {id} net trading').X for id, _ in enumerate(agents)])\n",
    "print('Model_3 net trades:', [model_3.getVarByName(f'Agent {id} net trading').X for id, _ in enumerate(agents)])\n",
    "print('Model_4 net trades:', [model_4.getVarByName(f'Agent {id} net trading').X for id, _ in enumerate(agents)])"
   ]
  },
  {
   "cell_type": "code",
   "execution_count": null,
   "metadata": {},
   "outputs": [],
   "source": []
  }
 ],
 "metadata": {
  "kernelspec": {
   "display_name": "Python 3.9.12 64-bit",
   "language": "python",
   "name": "python3"
  },
  "language_info": {
   "codemirror_mode": {
    "name": "ipython",
    "version": 3
   },
   "file_extension": ".py",
   "mimetype": "text/x-python",
   "name": "python",
   "nbconvert_exporter": "python",
   "pygments_lexer": "ipython3",
   "version": "3.9.12"
  },
  "orig_nbformat": 4,
  "vscode": {
   "interpreter": {
    "hash": "b0fa6594d8f4cbf19f97940f81e996739fb7646882a419484c72d19e05852a7e"
   }
  }
 },
 "nbformat": 4,
 "nbformat_minor": 2
}
