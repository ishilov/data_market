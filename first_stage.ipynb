{
 "cells": [
  {
   "cell_type": "code",
   "execution_count": 1,
   "metadata": {},
   "outputs": [],
   "source": [
    "import gurobipy as gp\n",
    "import numpy as np\n",
    "import pandas as pd\n",
    "from scipy import stats\n",
    "\n",
    "\n",
    "from gurobi_implementation import GurobiSolution\n",
    "from data_market import Seller, MarketOperator, Market, Buyer\n",
    "from p2p_gurobi import Agents, FirstStageMarket"
   ]
  },
  {
   "cell_type": "code",
   "execution_count": 2,
   "metadata": {},
   "outputs": [],
   "source": [
    "import matplotlib.pyplot as plt\n",
    "\n",
    "import seaborn as sns\n",
    "sns.set()"
   ]
  },
  {
   "cell_type": "code",
   "execution_count": 3,
   "metadata": {},
   "outputs": [],
   "source": [
    "connection_matrix = [[0, 1, 1, 1, 1],\n",
    "                    [1, 0, 1, 1, 1],\n",
    "                    [1, 1, 0, 1, 1],\n",
    "                    [1, 1, 1, 0, 1],\n",
    "                    [1, 1, 1, 1, 0]]\n",
    "\n",
    "kappa = [[0, 10, 10, 10, 10],\n",
    "        [10, 0, 10, 10, 10],\n",
    "        [10, 10, 0, 10, 10],\n",
    "        [10, 10, 10, 0, 10],\n",
    "        [10, 10, 10, 10, 0]]                   "
   ]
  },
  {
   "cell_type": "code",
   "execution_count": 4,
   "metadata": {},
   "outputs": [],
   "source": [
    "#model_1\n",
    "actual_generations = [3, 4, 5, 4, 3]\n",
    "demand = [6, 7, 8, 9, 10]\n",
    "\n",
    "price_da_buy = 3\n",
    "price_da_sell = 2\n",
    "price_rt_buy = 4\n",
    "price_rt_sell = 1\n",
    "\n",
    "base_forecasts = [stats.norm(loc = generation, scale = 0.5) for generation in actual_generations]\n",
    "\n",
    "agents_forecasts = []\n",
    "for base_forecast in base_forecasts:\n",
    "    probas, values = np.histogram(base_forecasts[0].rvs(100000), bins = 100, density = True)\n",
    "    probas = probas / probas.sum()\n",
    "    agents_forecasts.append((probas, values))\n",
    "\n",
    "agents = []\n",
    "for id, actual_generation in enumerate(actual_generations):\n",
    "    agent = Agents(id = id,\n",
    "                probabilities = agents_forecasts[id][0],\n",
    "                generation_values = agents_forecasts[id][1],\n",
    "                demand = demand[id],\n",
    "                connections = connection_matrix[id],\n",
    "                kappa = kappa[id])\n",
    "\n",
    "    agents.append(agent)"
   ]
  },
  {
   "cell_type": "code",
   "execution_count": 5,
   "metadata": {},
   "outputs": [],
   "source": [
    "model_1 = gp.Model()"
   ]
  },
  {
   "cell_type": "code",
   "execution_count": 6,
   "metadata": {},
   "outputs": [],
   "source": [
    "market_1 = FirstStageMarket(agents= agents,\n",
    "                            model = model_1,\n",
    "                            price_da_buy = price_da_buy,\n",
    "                            price_da_sell = price_da_sell,\n",
    "                            price_rt_buy = price_rt_buy,\n",
    "                            price_rt_sell = price_rt_sell)"
   ]
  },
  {
   "cell_type": "code",
   "execution_count": 7,
   "metadata": {},
   "outputs": [],
   "source": [
    "market_1.build_model()"
   ]
  },
  {
   "cell_type": "code",
   "execution_count": 8,
   "metadata": {},
   "outputs": [
    {
     "name": "stdout",
     "output_type": "stream",
     "text": [
      "Gurobi Optimizer version 9.5.0 build v9.5.0rc5 (mac64[arm])\n",
      "Thread count: 8 physical cores, 8 logical processors, using up to 8 threads\n",
      "Optimize a model with 525 rows, 1035 columns and 2565 nonzeros\n",
      "Model fingerprint: 0xbe41884f\n",
      "Coefficient statistics:\n",
      "  Matrix range     [1e+00, 1e+00]\n",
      "  Objective range  [1e-05, 3e+00]\n",
      "  Bounds range     [1e+01, 1e+01]\n",
      "  RHS range        [8e-01, 9e+00]\n",
      "Presolve removed 40 rows and 60 columns\n",
      "Presolve time: 0.00s\n",
      "Presolved: 485 rows, 975 columns, 2415 nonzeros\n",
      "\n",
      "Iteration    Objective       Primal Inf.    Dual Inf.      Time\n",
      "       0      handle free variables                          0s\n",
      "     694    7.8052491e+01   0.000000e+00   0.000000e+00      0s\n",
      "\n",
      "Solved in 694 iterations and 0.01 seconds (0.01 work units)\n",
      "Optimal objective  7.805249091e+01\n"
     ]
    }
   ],
   "source": [
    "model_1.optimize()"
   ]
  },
  {
   "cell_type": "code",
   "execution_count": 9,
   "metadata": {},
   "outputs": [],
   "source": [
    "def second_stage_resolution(model, agents, actual_generations):\n",
    "    second_stage_decisions = []\n",
    "    actual_costs = []\n",
    "    for agent in agents:\n",
    "        second_stage_decision = (agent.demand \n",
    "                                - actual_generations[agent.id] \n",
    "                                - model.getVarByName(f'Agent {agent.id} day-ahead purchase').X\n",
    "                                + model.getVarByName(f'Agent {agent.id} day-ahead sale').X\n",
    "                                - model.getVarByName(f'Agent {agent.id} net trading').X)\n",
    "\n",
    "        second_stage_cost = price_rt_buy * second_stage_decision if second_stage_decision > 0 else price_rt_sell * second_stage_decision\n",
    "\n",
    "        second_stage_decisions.append(second_stage_decision)\n",
    "\n",
    "        actual_cost = (price_da_buy * model.getVarByName(f'Agent {agent.id} day-ahead purchase').X \n",
    "                    - price_da_sell * model.getVarByName(f'Agent {agent.id} day-ahead sale').X\n",
    "                    + second_stage_cost )\n",
    "\n",
    "\n",
    "        actual_costs.append(actual_cost)\n",
    "\n",
    "    return second_stage_decisions, actual_costs\n",
    "        "
   ]
  },
  {
   "cell_type": "code",
   "execution_count": 10,
   "metadata": {},
   "outputs": [
    {
     "data": {
      "text/plain": [
       "([0.20897845221904987,\n",
       "  -0.7983248101316471,\n",
       "  -1.792530266070413,\n",
       "  -0.8133998688502144,\n",
       "  0.19959543400563362],\n",
       " [72.82295698535897,\n",
       "  -0.7983248101316471,\n",
       "  -1.792530266070413,\n",
       "  -0.8133998688502144,\n",
       "  0.7983817360225345])"
      ]
     },
     "execution_count": 10,
     "metadata": {},
     "output_type": "execute_result"
    }
   ],
   "source": [
    "second_stage_resolution(model_1, agents, actual_generations)"
   ]
  },
  {
   "cell_type": "code",
   "execution_count": 11,
   "metadata": {},
   "outputs": [],
   "source": [
    "#model_2\n",
    "actual_generations = [3, 4, 5, 4, 3]\n",
    "demand = [6, 7, 8, 9, 10]\n",
    "\n",
    "price_da_buy = 3\n",
    "price_da_sell = 2\n",
    "price_rt_buy = 4\n",
    "price_rt_sell = 1\n",
    "\n",
    "base_forecasts = [stats.norm(loc = generation, scale = 1.0) for generation in actual_generations]\n",
    "\n",
    "agents_forecasts = []\n",
    "for base_forecast in base_forecasts:\n",
    "    probas, values = np.histogram(base_forecasts[0].rvs(100000), bins = 100, density = True)\n",
    "    probas = probas / probas.sum()\n",
    "    agents_forecasts.append((probas, values))\n",
    "\n",
    "agents = []\n",
    "for id, actual_generation in enumerate(actual_generations):\n",
    "    agent = Agents(id = id,\n",
    "                probabilities = agents_forecasts[id][0],\n",
    "                generation_values = agents_forecasts[id][1],\n",
    "                demand = demand[id],\n",
    "                connections = connection_matrix[id],\n",
    "                kappa = kappa[id])\n",
    "\n",
    "    agents.append(agent)"
   ]
  },
  {
   "cell_type": "code",
   "execution_count": 12,
   "metadata": {},
   "outputs": [],
   "source": [
    "model_2 = gp.Model()\n",
    "\n",
    "market_2 = FirstStageMarket(agents= agents,\n",
    "                            model = model_2,\n",
    "                            price_da_buy = price_da_buy,\n",
    "                            price_da_sell = price_da_sell,\n",
    "                            price_rt_buy = price_rt_buy,\n",
    "                            price_rt_sell = price_rt_sell)"
   ]
  },
  {
   "cell_type": "code",
   "execution_count": 13,
   "metadata": {},
   "outputs": [],
   "source": [
    "market_2.build_model()"
   ]
  },
  {
   "cell_type": "code",
   "execution_count": 14,
   "metadata": {},
   "outputs": [
    {
     "name": "stdout",
     "output_type": "stream",
     "text": [
      "Gurobi Optimizer version 9.5.0 build v9.5.0rc5 (mac64[arm])\n",
      "Thread count: 8 physical cores, 8 logical processors, using up to 8 threads\n",
      "Optimize a model with 525 rows, 1035 columns and 2565 nonzeros\n",
      "Model fingerprint: 0x8b96c8b5\n",
      "Coefficient statistics:\n",
      "  Matrix range     [1e+00, 1e+00]\n",
      "  Objective range  [1e-05, 3e+00]\n",
      "  Bounds range     [1e+01, 1e+01]\n",
      "  RHS range        [3e-02, 1e+01]\n",
      "Presolve removed 41 rows and 62 columns\n",
      "Presolve time: 0.00s\n",
      "Presolved: 484 rows, 973 columns, 2410 nonzeros\n",
      "\n",
      "Iteration    Objective       Primal Inf.    Dual Inf.      Time\n",
      "       0      handle free variables                          0s\n",
      "     692    8.1072963e+01   0.000000e+00   0.000000e+00      0s\n",
      "\n",
      "Solved in 692 iterations and 0.01 seconds (0.01 work units)\n",
      "Optimal objective  8.107296292e+01\n"
     ]
    }
   ],
   "source": [
    "model_2.optimize()"
   ]
  },
  {
   "cell_type": "code",
   "execution_count": 15,
   "metadata": {},
   "outputs": [
    {
     "data": {
      "text/plain": [
       "([0.20897845221904987,\n",
       "  -0.7983248101316471,\n",
       "  -1.792530266070413,\n",
       "  -0.8133998688502144,\n",
       "  0.19959543400563362],\n",
       " [72.82295698535897,\n",
       "  -0.7983248101316471,\n",
       "  -1.792530266070413,\n",
       "  -0.8133998688502144,\n",
       "  0.7983817360225345])"
      ]
     },
     "execution_count": 15,
     "metadata": {},
     "output_type": "execute_result"
    }
   ],
   "source": [
    "second_stage_resolution(model_2, agents, actual_generations)"
   ]
  },
  {
   "cell_type": "code",
   "execution_count": null,
   "metadata": {},
   "outputs": [],
   "source": []
  }
 ],
 "metadata": {
  "kernelspec": {
   "display_name": "Python 3.9.12 64-bit",
   "language": "python",
   "name": "python3"
  },
  "language_info": {
   "codemirror_mode": {
    "name": "ipython",
    "version": 3
   },
   "file_extension": ".py",
   "mimetype": "text/x-python",
   "name": "python",
   "nbconvert_exporter": "python",
   "pygments_lexer": "ipython3",
   "version": "3.9.12"
  },
  "orig_nbformat": 4,
  "vscode": {
   "interpreter": {
    "hash": "b0fa6594d8f4cbf19f97940f81e996739fb7646882a419484c72d19e05852a7e"
   }
  }
 },
 "nbformat": 4,
 "nbformat_minor": 2
}
