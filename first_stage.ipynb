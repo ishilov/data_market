{
 "cells": [
  {
   "cell_type": "code",
   "execution_count": 1,
   "metadata": {},
   "outputs": [],
   "source": [
    "import gurobipy as gp\n",
    "import numpy as np\n",
    "import pandas as pd\n",
    "from scipy import stats\n",
    "\n",
    "\n",
    "from gurobi_implementation import GurobiSolution\n",
    "from data_market import Seller, MarketOperator, Market, Buyer\n",
    "from p2p_gurobi import Agents, FirstStageMarket"
   ]
  },
  {
   "cell_type": "code",
   "execution_count": 2,
   "metadata": {},
   "outputs": [],
   "source": [
    "import matplotlib.pyplot as plt\n",
    "\n",
    "import seaborn as sns\n",
    "sns.set()"
   ]
  },
  {
   "cell_type": "code",
   "execution_count": 3,
   "metadata": {},
   "outputs": [],
   "source": [
    "connection_matrix = [[0, 1, 1, 1, 1],\n",
    "                    [1, 0, 1, 1, 1],\n",
    "                    [1, 1, 0, 1, 1],\n",
    "                    [1, 1, 1, 0, 1],\n",
    "                    [1, 1, 1, 1, 0]]\n",
    "\n",
    "kappa = [[0, 10, 10, 10, 10],\n",
    "        [10, 0, 10, 10, 10],\n",
    "        [10, 10, 0, 10, 10],\n",
    "        [10, 10, 10, 0, 10],\n",
    "        [10, 10, 10, 10, 0]]    \n",
    "\n",
    "#kappa = [[1 for i in range(5)] for k in range(5)]               "
   ]
  },
  {
   "cell_type": "code",
   "execution_count": 4,
   "metadata": {},
   "outputs": [],
   "source": [
    "#model_1\n",
    "actual_generations = [3, 4, 5, 4, 3]\n",
    "demand = [6, 7, 8, 9, 10]\n",
    "\n",
    "price_da_buy = 3\n",
    "price_da_sell = 2\n",
    "price_rt_buy = 4\n",
    "price_rt_sell = 1\n",
    "\n",
    "base_forecasts = [stats.norm(loc = generation, scale = 2.0) for generation in actual_generations]\n",
    "\n",
    "agents_forecasts = []\n",
    "for base_forecast in base_forecasts:\n",
    "    probas, values = np.histogram(base_forecast.rvs(100000), bins = 100, density = True)\n",
    "    probas = probas / probas.sum()\n",
    "    agents_forecasts.append((probas, values))\n",
    "\n",
    "agents = []\n",
    "for id, actual_generation in enumerate(actual_generations):\n",
    "    agent = Agents(id = id,\n",
    "                probabilities = agents_forecasts[id][0],\n",
    "                generation_values = agents_forecasts[id][1],\n",
    "                demand = demand[id],\n",
    "                connections = connection_matrix[id],\n",
    "                kappa = kappa[id])\n",
    "\n",
    "    agents.append(agent)"
   ]
  },
  {
   "cell_type": "code",
   "execution_count": 5,
   "metadata": {},
   "outputs": [
    {
     "data": {
      "image/png": "[encoded data removed]",
      "text/plain": [
       "<Figure size 432x288 with 1 Axes>"
      ]
     },
     "metadata": {},
     "output_type": "display_data"
    }
   ],
   "source": [
    "for i in range(5):\n",
    "    plt.hist(base_forecasts[i].rvs(100000), bins = 100, density = True);"
   ]
  },
  {
   "cell_type": "code",
   "execution_count": 6,
   "metadata": {},
   "outputs": [],
   "source": [
    "model_1 = gp.Model()"
   ]
  },
  {
   "cell_type": "code",
   "execution_count": 7,
   "metadata": {},
   "outputs": [],
   "source": [
    "market_1 = FirstStageMarket(agents= agents,\n",
    "                            model = model_1,\n",
    "                            price_da_buy = price_da_buy,\n",
    "                            price_da_sell = price_da_sell,\n",
    "                            price_rt_buy = price_rt_buy,\n",
    "                            price_rt_sell = price_rt_sell)"
   ]
  },
  {
   "cell_type": "code",
   "execution_count": 8,
   "metadata": {},
   "outputs": [],
   "source": [
    "market_1.build_model()"
   ]
  },
  {
   "cell_type": "code",
   "execution_count": 9,
   "metadata": {},
   "outputs": [
    {
     "name": "stdout",
     "output_type": "stream",
     "text": [
      "Gurobi Optimizer version 9.5.0 build v9.5.0rc5 (mac64[arm])\n",
      "Thread count: 8 physical cores, 8 logical processors, using up to 8 threads\n",
      "Optimize a model with 499 rows, 983 columns and 2435 nonzeros\n",
      "Model fingerprint: 0xe00c1eb0\n",
      "Coefficient statistics:\n",
      "  Matrix range     [1e+00, 1e+00]\n",
      "  Objective range  [1e-05, 3e+00]\n",
      "  Bounds range     [1e+01, 1e+01]\n",
      "  RHS range        [5e-03, 2e+01]\n",
      "Presolve removed 20 rows and 10 columns\n",
      "Presolve time: 0.01s\n",
      "Presolved: 479 rows, 973 columns, 2395 nonzeros\n",
      "\n",
      "Iteration    Objective       Primal Inf.    Dual Inf.      Time\n",
      "       0      handle free variables                          0s\n",
      "     762    7.5188182e+01   0.000000e+00   0.000000e+00      0s\n",
      "\n",
      "Solved in 762 iterations and 0.01 seconds (0.01 work units)\n",
      "Optimal objective  7.518818216e+01\n"
     ]
    }
   ],
   "source": [
    "model_1.optimize()"
   ]
  },
  {
   "cell_type": "code",
   "execution_count": 10,
   "metadata": {},
   "outputs": [],
   "source": [
    "def second_stage_resolution(model, agents, actual_generations):\n",
    "    second_stage_decisions = []\n",
    "    actual_costs = []\n",
    "    for agent in agents:\n",
    "        second_stage_decision = (agent.demand \n",
    "                                - actual_generations[agent.id] \n",
    "                                - model.getVarByName(f'Agent {agent.id} day-ahead purchase').X\n",
    "                                + model.getVarByName(f'Agent {agent.id} day-ahead sale').X\n",
    "                                - model.getVarByName(f'Agent {agent.id} net trading').X)\n",
    "\n",
    "        second_stage_cost = price_rt_buy * second_stage_decision if second_stage_decision > 0 else price_rt_sell * second_stage_decision\n",
    "\n",
    "        second_stage_decisions.append(second_stage_decision)\n",
    "\n",
    "        actual_cost = (price_da_buy * model.getVarByName(f'Agent {agent.id} day-ahead purchase').X \n",
    "                    - price_da_sell * model.getVarByName(f'Agent {agent.id} day-ahead sale').X\n",
    "                    + second_stage_cost)\n",
    "\n",
    "\n",
    "        actual_costs.append(actual_cost)\n",
    "\n",
    "    return second_stage_decisions, actual_costs\n",
    "        "
   ]
  },
  {
   "cell_type": "code",
   "execution_count": 11,
   "metadata": {},
   "outputs": [
    {
     "data": {
      "text/plain": [
       "([0.8667586549649045,\n",
       "  0.7677570273804513,\n",
       "  0.8560060235375033,\n",
       "  0.8227955563089715,\n",
       "  0.8240987823420163],\n",
       " [3.467034619859618,\n",
       "  3.071028109521805,\n",
       "  3.4240240941500133,\n",
       "  53.87893409163435,\n",
       "  3.296395129368065])"
      ]
     },
     "execution_count": 11,
     "metadata": {},
     "output_type": "execute_result"
    }
   ],
   "source": [
    "second_stage_resolution(model_1, agents, actual_generations)"
   ]
  },
  {
   "cell_type": "code",
   "execution_count": 12,
   "metadata": {},
   "outputs": [
    {
     "data": {
      "text/plain": [
       "67.13741604453385"
      ]
     },
     "execution_count": 12,
     "metadata": {},
     "output_type": "execute_result"
    }
   ],
   "source": [
    "sum(second_stage_resolution(model_1, agents, actual_generations)[1])"
   ]
  },
  {
   "cell_type": "code",
   "execution_count": 13,
   "metadata": {},
   "outputs": [],
   "source": [
    "#model_2\n",
    "actual_generations = [3, 4, 5, 4, 3]\n",
    "demand = [6, 7, 8, 9, 10]\n",
    "\n",
    "price_da_buy = 3\n",
    "price_da_sell = 2\n",
    "price_rt_buy = 4\n",
    "price_rt_sell = 1\n",
    "\n",
    "base_forecasts = [stats.norm(loc = generation, scale = 1.0) for generation in actual_generations]\n",
    "\n",
    "agents_forecasts = []\n",
    "for base_forecast in base_forecasts:\n",
    "    probas, values = np.histogram(base_forecast.rvs(100000), bins = 100, density = True)\n",
    "    probas = probas / probas.sum()\n",
    "    agents_forecasts.append((probas, values))\n",
    "\n",
    "agents = []\n",
    "for id, actual_generation in enumerate(actual_generations):\n",
    "    agent = Agents(id = id,\n",
    "                probabilities = agents_forecasts[id][0],\n",
    "                generation_values = agents_forecasts[id][1],\n",
    "                demand = demand[id],\n",
    "                connections = connection_matrix[id],\n",
    "                kappa = kappa[id])\n",
    "\n",
    "    agents.append(agent)"
   ]
  },
  {
   "cell_type": "code",
   "execution_count": 14,
   "metadata": {},
   "outputs": [
    {
     "data": {
      "image/png": "[encoded data removed]",
      "text/plain": [
       "<Figure size 432x288 with 1 Axes>"
      ]
     },
     "metadata": {},
     "output_type": "display_data"
    }
   ],
   "source": [
    "for i in range(5):\n",
    "    plt.hist(base_forecasts[i].rvs(100000), bins = 100, density = True);"
   ]
  },
  {
   "cell_type": "code",
   "execution_count": 15,
   "metadata": {},
   "outputs": [],
   "source": [
    "model_2 = gp.Model()\n",
    "\n",
    "market_2 = FirstStageMarket(agents= agents,\n",
    "                            model = model_2,\n",
    "                            price_da_buy = price_da_buy,\n",
    "                            price_da_sell = price_da_sell,\n",
    "                            price_rt_buy = price_rt_buy,\n",
    "                            price_rt_sell = price_rt_sell)"
   ]
  },
  {
   "cell_type": "code",
   "execution_count": 16,
   "metadata": {},
   "outputs": [],
   "source": [
    "market_2.build_model()"
   ]
  },
  {
   "cell_type": "code",
   "execution_count": 17,
   "metadata": {},
   "outputs": [
    {
     "name": "stdout",
     "output_type": "stream",
     "text": [
      "Gurobi Optimizer version 9.5.0 build v9.5.0rc5 (mac64[arm])\n",
      "Thread count: 8 physical cores, 8 logical processors, using up to 8 threads\n",
      "Optimize a model with 506 rows, 997 columns and 2470 nonzeros\n",
      "Model fingerprint: 0x1db4e204\n",
      "Coefficient statistics:\n",
      "  Matrix range     [1e+00, 1e+00]\n",
      "  Objective range  [1e-05, 3e+00]\n",
      "  Bounds range     [1e+01, 1e+01]\n",
      "  RHS range        [2e-03, 1e+01]\n",
      "Presolve removed 20 rows and 10 columns\n",
      "Presolve time: 0.01s\n",
      "Presolved: 486 rows, 987 columns, 2430 nonzeros\n",
      "\n",
      "Iteration    Objective       Primal Inf.    Dual Inf.      Time\n",
      "       0      handle free variables                          0s\n",
      "     678    6.9086263e+01   0.000000e+00   0.000000e+00      0s\n",
      "\n",
      "Solved in 678 iterations and 0.01 seconds (0.01 work units)\n",
      "Optimal objective  6.908626315e+01\n"
     ]
    }
   ],
   "source": [
    "model_2.optimize()"
   ]
  },
  {
   "cell_type": "code",
   "execution_count": 18,
   "metadata": {},
   "outputs": [
    {
     "data": {
      "text/plain": [
       "([0.3619776299794166,\n",
       "  0.4222321019371087,\n",
       "  0.4119068292668828,\n",
       "  0.39990153089453706,\n",
       "  0.34482771185261196],\n",
       " [1.4479105199176665,\n",
       "  58.86639099595676,\n",
       "  1.6476273170675313,\n",
       "  1.5996061235781482,\n",
       "  1.3793108474104478])"
      ]
     },
     "execution_count": 18,
     "metadata": {},
     "output_type": "execute_result"
    }
   ],
   "source": [
    "second_stage_resolution(model_2, agents, actual_generations)"
   ]
  },
  {
   "cell_type": "code",
   "execution_count": 19,
   "metadata": {},
   "outputs": [
    {
     "data": {
      "text/plain": [
       "64.94084580393056"
      ]
     },
     "execution_count": 19,
     "metadata": {},
     "output_type": "execute_result"
    }
   ],
   "source": [
    "sum(second_stage_resolution(model_2, agents, actual_generations)[1])"
   ]
  },
  {
   "cell_type": "code",
   "execution_count": 20,
   "metadata": {},
   "outputs": [],
   "source": [
    "#model_3\n",
    "actual_generations = [3, 4, 5, 4, 3]\n",
    "demand = [6, 7, 8, 9, 10]\n",
    "\n",
    "price_da_buy = 3\n",
    "price_da_sell = 2\n",
    "price_rt_buy = 4\n",
    "price_rt_sell = 1\n",
    "\n",
    "base_forecasts = [stats.norm(loc = generation, scale = 0.2) for generation in actual_generations]\n",
    "\n",
    "agents_forecasts = []\n",
    "for base_forecast in base_forecasts:\n",
    "    probas, values = np.histogram(base_forecast.rvs(100000), bins = 100, density = True)\n",
    "    probas = probas / probas.sum()\n",
    "    agents_forecasts.append((probas, values))\n",
    "\n",
    "agents = []\n",
    "for id, actual_generation in enumerate(actual_generations):\n",
    "    agent = Agents(id = id,\n",
    "                probabilities = agents_forecasts[id][0],\n",
    "                generation_values = agents_forecasts[id][1],\n",
    "                demand = demand[id],\n",
    "                connections = connection_matrix[id],\n",
    "                kappa = kappa[id])\n",
    "\n",
    "    agents.append(agent)"
   ]
  },
  {
   "cell_type": "code",
   "execution_count": 21,
   "metadata": {},
   "outputs": [
    {
     "data": {
      "image/png": "[encoded data removed]",
      "text/plain": [
       "<Figure size 432x288 with 1 Axes>"
      ]
     },
     "metadata": {},
     "output_type": "display_data"
    }
   ],
   "source": [
    "for i in range(5):\n",
    "    plt.hist(base_forecasts[i].rvs(100000), bins = 100, density = True);"
   ]
  },
  {
   "cell_type": "code",
   "execution_count": 22,
   "metadata": {},
   "outputs": [],
   "source": [
    "model_3 = gp.Model()\n",
    "\n",
    "market_3 = FirstStageMarket(agents= agents,\n",
    "                            model = model_3,\n",
    "                            price_da_buy = price_da_buy,\n",
    "                            price_da_sell = price_da_sell,\n",
    "                            price_rt_buy = price_rt_buy,\n",
    "                            price_rt_sell = price_rt_sell)"
   ]
  },
  {
   "cell_type": "code",
   "execution_count": 23,
   "metadata": {},
   "outputs": [
    {
     "name": "stdout",
     "output_type": "stream",
     "text": [
      "Gurobi Optimizer version 9.5.0 build v9.5.0rc5 (mac64[arm])\n",
      "Thread count: 8 physical cores, 8 logical processors, using up to 8 threads\n",
      "Optimize a model with 507 rows, 999 columns and 2475 nonzeros\n",
      "Model fingerprint: 0x223ea1ef\n",
      "Coefficient statistics:\n",
      "  Matrix range     [1e+00, 1e+00]\n",
      "  Objective range  [1e-05, 3e+00]\n",
      "  Bounds range     [1e+01, 1e+01]\n",
      "  RHS range        [2e+00, 8e+00]\n",
      "Presolve removed 20 rows and 10 columns\n",
      "Presolve time: 0.01s\n",
      "Presolved: 487 rows, 989 columns, 2435 nonzeros\n",
      "\n",
      "Iteration    Objective       Primal Inf.    Dual Inf.      Time\n",
      "       0      handle free variables                          0s\n",
      "     738    6.4226757e+01   0.000000e+00   0.000000e+00      0s\n",
      "\n",
      "Solved in 738 iterations and 0.01 seconds (0.01 work units)\n",
      "Optimal objective  6.422675730e+01\n"
     ]
    }
   ],
   "source": [
    "market_3.build_model()\n",
    "model_3.optimize()"
   ]
  },
  {
   "cell_type": "code",
   "execution_count": 24,
   "metadata": {},
   "outputs": [
    {
     "data": {
      "text/plain": [
       "([0.0762759224531635,\n",
       "  0.0829993527378079,\n",
       "  0.06921010779316639,\n",
       "  0.07746707173176226,\n",
       "  0.07862885617907178],\n",
       " [62.151359757127736,\n",
       "  0.3319974109512316,\n",
       "  0.27684043117266555,\n",
       "  0.30986828692704904,\n",
       "  0.31451542471628713])"
      ]
     },
     "execution_count": 24,
     "metadata": {},
     "output_type": "execute_result"
    }
   ],
   "source": [
    "second_stage_resolution(model_3, agents, actual_generations)"
   ]
  },
  {
   "cell_type": "code",
   "execution_count": 25,
   "metadata": {},
   "outputs": [
    {
     "data": {
      "text/plain": [
       "63.38458131089497"
      ]
     },
     "execution_count": 25,
     "metadata": {},
     "output_type": "execute_result"
    }
   ],
   "source": [
    "sum(second_stage_resolution(model_3, agents, actual_generations)[1])"
   ]
  },
  {
   "cell_type": "code",
   "execution_count": 26,
   "metadata": {},
   "outputs": [],
   "source": [
    "#model_4\n",
    "actual_generations = [3, 4, 5, 4, 3]\n",
    "demand = [6, 7, 8, 9, 10]\n",
    "\n",
    "price_da_buy = 3\n",
    "price_da_sell = 2\n",
    "price_rt_buy = 4\n",
    "price_rt_sell = 1\n",
    "\n",
    "base_forecasts = [stats.norm(loc = generation, scale = 0.0) for generation in actual_generations]\n",
    "\n",
    "agents_forecasts = []\n",
    "for base_forecast in base_forecasts:\n",
    "    probas, values = np.histogram(base_forecast.rvs(100000), bins = 100, density = True)\n",
    "    probas = probas / probas.sum()\n",
    "    agents_forecasts.append((probas, values))\n",
    "\n",
    "agents = []\n",
    "for id, actual_generation in enumerate(actual_generations):\n",
    "    agent = Agents(id = id,\n",
    "                probabilities = agents_forecasts[id][0],\n",
    "                generation_values = agents_forecasts[id][1],\n",
    "                demand = demand[id],\n",
    "                connections = connection_matrix[id],\n",
    "                kappa = kappa[id])\n",
    "\n",
    "    agents.append(agent)"
   ]
  },
  {
   "cell_type": "code",
   "execution_count": 27,
   "metadata": {},
   "outputs": [
    {
     "data": {
      "image/png": "[encoded data removed]",
      "text/plain": [
       "<Figure size 432x288 with 1 Axes>"
      ]
     },
     "metadata": {},
     "output_type": "display_data"
    }
   ],
   "source": [
    "for i in range(5):\n",
    "    plt.hist(base_forecasts[i].rvs(100000), bins = 100, density = True);"
   ]
  },
  {
   "cell_type": "code",
   "execution_count": 28,
   "metadata": {},
   "outputs": [
    {
     "name": "stdout",
     "output_type": "stream",
     "text": [
      "Gurobi Optimizer version 9.5.0 build v9.5.0rc5 (mac64[arm])\n",
      "Thread count: 8 physical cores, 8 logical processors, using up to 8 threads\n",
      "Optimize a model with 30 rows, 45 columns and 90 nonzeros\n",
      "Model fingerprint: 0x803f6299\n",
      "Coefficient statistics:\n",
      "  Matrix range     [1e+00, 1e+00]\n",
      "  Objective range  [1e+00, 4e+00]\n",
      "  Bounds range     [1e+01, 1e+01]\n",
      "  RHS range        [3e+00, 7e+00]\n",
      "Presolve removed 25 rows and 20 columns\n",
      "Presolve time: 0.00s\n",
      "Presolved: 5 rows, 25 columns, 35 nonzeros\n",
      "\n",
      "Iteration    Objective       Primal Inf.    Dual Inf.      Time\n",
      "       0   -1.5000000e+02   3.925000e+01   0.000000e+00      0s\n",
      "       9    6.3000000e+01   0.000000e+00   0.000000e+00      0s\n",
      "\n",
      "Solved in 9 iterations and 0.01 seconds (0.00 work units)\n",
      "Optimal objective  6.300000000e+01\n"
     ]
    }
   ],
   "source": [
    "model_4 = gp.Model()\n",
    "\n",
    "market_4 = FirstStageMarket(agents= agents,\n",
    "                            model = model_4,\n",
    "                            price_da_buy = price_da_buy,\n",
    "                            price_da_sell = price_da_sell,\n",
    "                            price_rt_buy = price_rt_buy,\n",
    "                            price_rt_sell = price_rt_sell)\n",
    "\n",
    "market_4.build_model()\n",
    "model_4.optimize()                            "
   ]
  },
  {
   "cell_type": "code",
   "execution_count": 29,
   "metadata": {},
   "outputs": [
    {
     "data": {
      "text/plain": [
       "([0.0, 0.0, 0.0, 0.0, 0.0], [39.0, 9.0, 0.0, 15.0, 0.0])"
      ]
     },
     "execution_count": 29,
     "metadata": {},
     "output_type": "execute_result"
    }
   ],
   "source": [
    "second_stage_resolution(model_4, agents, actual_generations)"
   ]
  },
  {
   "cell_type": "code",
   "execution_count": 30,
   "metadata": {},
   "outputs": [
    {
     "data": {
      "text/plain": [
       "63.0"
      ]
     },
     "execution_count": 30,
     "metadata": {},
     "output_type": "execute_result"
    }
   ],
   "source": [
    "sum(second_stage_resolution(model_4, agents, actual_generations)[1])"
   ]
  },
  {
   "cell_type": "code",
   "execution_count": 31,
   "metadata": {},
   "outputs": [
    {
     "name": "stdout",
     "output_type": "stream",
     "text": [
      "Model_1 net trades: [2.1332413450350955, 2.2322429726195487, 2.1439939764624967, -12.685379511775125, 6.175901217657984]\n",
      "Model_2 net trades: [2.6380223700205834, -16.48138629800655, 2.588093170733117, 4.600098469105463, 6.655172288147388]\n",
      "Model_3 net trades: [-17.69169461155819, 2.917000647262192, 2.9307898922068336, 4.922532928268238, 6.921371143820928]\n",
      "Model_4 net trades: [-10.0, 0.0, 3.0, 0.0, 7.0]\n"
     ]
    }
   ],
   "source": [
    "print('Model_1 net trades:', [model_1.getVarByName(f'Agent {id} net trading').X for id, _ in enumerate(agents)])\n",
    "print('Model_2 net trades:', [model_2.getVarByName(f'Agent {id} net trading').X for id, _ in enumerate(agents)])\n",
    "print('Model_3 net trades:', [model_3.getVarByName(f'Agent {id} net trading').X for id, _ in enumerate(agents)])\n",
    "print('Model_4 net trades:', [model_4.getVarByName(f'Agent {id} net trading').X for id, _ in enumerate(agents)])"
   ]
  },
  {
   "cell_type": "code",
   "execution_count": 32,
   "metadata": {},
   "outputs": [],
   "source": [
    "duals = model_1.getAttr('Pi')"
   ]
  },
  {
   "cell_type": "code",
   "execution_count": 33,
   "metadata": {},
   "outputs": [],
   "source": [
    "const_names = model_1.getConstrs()"
   ]
  },
  {
   "cell_type": "code",
   "execution_count": 34,
   "metadata": {},
   "outputs": [
    {
     "name": "stdout",
     "output_type": "stream",
     "text": [
      "(<gurobi.Constr Bilateral trading for pair (0, 1)>, -3.000000000000001)\n",
      "(<gurobi.Constr Bilateral trading for pair (0, 2)>, 0.0)\n",
      "(<gurobi.Constr Bilateral trading for pair (0, 3)>, 0.0)\n",
      "(<gurobi.Constr Bilateral trading for pair (0, 4)>, 0.0)\n",
      "(<gurobi.Constr Bilateral trading for pair (1, 0)>, 0.0)\n",
      "(<gurobi.Constr Bilateral trading for pair (1, 2)>, 0.0)\n",
      "(<gurobi.Constr Bilateral trading for pair (1, 3)>, -3.000000000000001)\n",
      "(<gurobi.Constr Bilateral trading for pair (1, 4)>, 0.0)\n",
      "(<gurobi.Constr Bilateral trading for pair (2, 0)>, -3.000000000000001)\n",
      "(<gurobi.Constr Bilateral trading for pair (2, 1)>, -3.000000000000001)\n",
      "(<gurobi.Constr Bilateral trading for pair (2, 3)>, -3.000000000000001)\n",
      "(<gurobi.Constr Bilateral trading for pair (2, 4)>, 0.0)\n",
      "(<gurobi.Constr Bilateral trading for pair (3, 0)>, -3.000000000000001)\n",
      "(<gurobi.Constr Bilateral trading for pair (3, 1)>, 0.0)\n",
      "(<gurobi.Constr Bilateral trading for pair (3, 2)>, 0.0)\n",
      "(<gurobi.Constr Bilateral trading for pair (3, 4)>, 0.0)\n",
      "(<gurobi.Constr Bilateral trading for pair (4, 0)>, -3.000000000000001)\n",
      "(<gurobi.Constr Bilateral trading for pair (4, 1)>, -3.000000000000001)\n",
      "(<gurobi.Constr Bilateral trading for pair (4, 2)>, -3.000000000000001)\n",
      "(<gurobi.Constr Bilateral trading for pair (4, 3)>, -3.000000000000001)\n"
     ]
    }
   ],
   "source": [
    "for x in zip(const_names, duals):\n",
    "    if str(x[0]) in [f'<gurobi.Constr Bilateral trading for pair ({a}, {b})>' for a in range(5) for b in range(5)]:\n",
    "        print(x)"
   ]
  },
  {
   "cell_type": "code",
   "execution_count": 35,
   "metadata": {},
   "outputs": [],
   "source": [
    "def trading_costs(agents, model):\n",
    "    res = []\n",
    "    duals = model.getAttr('Pi')\n",
    "    const_names = model.getConstrs()\n",
    "\n",
    "    for agent in agents:\n",
    "        agent_trading_cost = 0\n",
    "        for x in zip(const_names, duals):\n",
    "            for agent_2 in agents:\n",
    "                if str(x[0]) == f'<gurobi.Constr Bilateral trading for pair ({agent.id}, {agent_2.id})>':\n",
    "                    print(f'q_{agent.id}_{agent_2.id}:', x[1], model.getVarByName(f'q_{agent.id}_{agent_2.id}').X)\n",
    "                    agent_trading_cost += x[1] * model.getVarByName(f'q_{agent.id}_{agent_2.id}').X\n",
    "\n",
    "        res.append(agent_trading_cost)\n",
    "\n",
    "    return res"
   ]
  },
  {
   "cell_type": "code",
   "execution_count": 36,
   "metadata": {},
   "outputs": [
    {
     "name": "stdout",
     "output_type": "stream",
     "text": [
      "q_0_1: -3.000000000000001 -7.8667586549649045\n",
      "q_0_2: 0.0 -10.0\n",
      "q_0_3: 0.0 10.0\n",
      "q_0_4: 0.0 10.0\n",
      "q_1_0: 0.0 7.8667586549649045\n",
      "q_1_2: 0.0 -10.0\n",
      "q_1_3: -3.000000000000001 10.0\n",
      "q_1_4: 0.0 -5.634515682345356\n",
      "q_2_0: -3.000000000000001 10.0\n",
      "q_2_1: -3.000000000000001 10.0\n",
      "q_2_3: -3.000000000000001 -10.0\n",
      "q_2_4: 0.0 -7.856006023537503\n",
      "q_3_0: -3.000000000000001 -10.0\n",
      "q_3_1: 0.0 -10.0\n",
      "q_3_2: 0.0 10.0\n",
      "q_3_4: 0.0 -2.6853795117751247\n",
      "q_4_0: -3.000000000000001 -10.0\n",
      "q_4_1: -3.000000000000001 5.634515682345356\n",
      "q_4_2: -3.000000000000001 7.856006023537503\n",
      "q_4_3: -3.000000000000001 2.6853795117751247\n"
     ]
    },
    {
     "data": {
      "text/plain": [
       "[23.60027596489472,\n",
       " -30.000000000000007,\n",
       " -30.000000000000007,\n",
       " 30.000000000000007,\n",
       " -18.527703652973955]"
      ]
     },
     "execution_count": 36,
     "metadata": {},
     "output_type": "execute_result"
    }
   ],
   "source": [
    "trading_costs(agents, model_1)"
   ]
  },
  {
   "cell_type": "code",
   "execution_count": 37,
   "metadata": {},
   "outputs": [
    {
     "name": "stdout",
     "output_type": "stream",
     "text": [
      "q_0_1: -3.000000000000001 -7.8667586549649045\n",
      "q_0_2: 0.0 -10.0\n",
      "q_0_3: 0.0 10.0\n",
      "q_0_4: 0.0 10.0\n",
      "q_1_0: 0.0 7.8667586549649045\n",
      "q_1_2: 0.0 -10.0\n",
      "q_1_3: -3.000000000000001 10.0\n",
      "q_1_4: 0.0 -5.634515682345356\n",
      "q_2_0: -3.000000000000001 10.0\n",
      "q_2_1: -3.000000000000001 10.0\n",
      "q_2_3: -3.000000000000001 -10.0\n",
      "q_2_4: 0.0 -7.856006023537503\n",
      "q_3_0: -3.000000000000001 -10.0\n",
      "q_3_1: 0.0 -10.0\n",
      "q_3_2: 0.0 10.0\n",
      "q_3_4: 0.0 -2.6853795117751247\n",
      "q_4_0: -3.000000000000001 -10.0\n",
      "q_4_1: -3.000000000000001 5.634515682345356\n",
      "q_4_2: -3.000000000000001 7.856006023537503\n",
      "q_4_3: -3.000000000000001 2.6853795117751247\n"
     ]
    },
    {
     "data": {
      "text/plain": [
       "42.209988356454616"
      ]
     },
     "execution_count": 37,
     "metadata": {},
     "output_type": "execute_result"
    }
   ],
   "source": [
    "sum(np.array(trading_costs(agents, model_1)) + np.array(second_stage_resolution(model_1, agents, actual_generations)[1]))"
   ]
  },
  {
   "cell_type": "code",
   "execution_count": 38,
   "metadata": {},
   "outputs": [
    {
     "name": "stdout",
     "output_type": "stream",
     "text": [
      "q_0_1: 0.0 10.0\n",
      "q_0_2: 0.0 10.0\n",
      "q_0_3: 0.0 -7.361977629979417\n",
      "q_0_4: 0.0 -10.0\n",
      "q_1_0: -3.000000000000001 -10.0\n",
      "q_1_2: 0.0 -10.0\n",
      "q_1_3: -3.000000000000001 -6.481386298006552\n",
      "q_1_4: 0.0 10.0\n",
      "q_2_0: -3.000000000000001 -10.0\n",
      "q_2_1: -3.000000000000001 10.0\n",
      "q_2_3: -3.000000000000001 10.0\n",
      "q_2_4: 0.0 -7.411906829266883\n",
      "q_3_0: -3.000000000000001 7.3619776299794175\n",
      "q_3_1: 0.0 6.4813862980065515\n",
      "q_3_2: 0.0 -10.0\n",
      "q_3_4: 0.0 0.7567345411194957\n",
      "q_4_0: -3.000000000000001 10.0\n",
      "q_4_1: -3.000000000000001 -10.0\n",
      "q_4_2: -3.000000000000001 7.411906829266883\n",
      "q_4_3: -3.000000000000001 -0.7567345411194957\n"
     ]
    },
    {
     "data": {
      "text/plain": [
       "42.3335549435698"
      ]
     },
     "execution_count": 38,
     "metadata": {},
     "output_type": "execute_result"
    }
   ],
   "source": [
    "sum(np.array(trading_costs(agents, model_2)) + np.array(second_stage_resolution(model_2, agents, actual_generations)[1]))"
   ]
  },
  {
   "cell_type": "code",
   "execution_count": 39,
   "metadata": {},
   "outputs": [
    {
     "name": "stdout",
     "output_type": "stream",
     "text": [
      "q_0_1: -3.0 -7.691694611558192\n",
      "q_0_2: -3.0 10.0\n",
      "q_0_3: -3.0 -10.0\n",
      "q_0_4: 0.0 -10.0\n",
      "q_1_0: 0.0 7.691694611558191\n",
      "q_1_2: 0.0 7.069210107793168\n",
      "q_1_3: -3.0 -10.0\n",
      "q_1_4: 0.0 -1.8439040720891668\n",
      "q_2_0: 0.0 -10.0\n",
      "q_2_1: -3.0 -7.069210107793166\n",
      "q_2_3: -3.0 10.0\n",
      "q_2_4: 0.0 10.0\n",
      "q_3_0: 0.0 10.0\n",
      "q_3_1: 0.0 10.0\n",
      "q_3_2: 0.0 -10.0\n",
      "q_3_4: 0.0 -5.077467071731762\n",
      "q_4_0: -3.0 10.0\n",
      "q_4_1: -3.0 1.8439040720891668\n",
      "q_4_2: -3.0 -10.0\n",
      "q_4_3: -3.0 5.077467071731762\n"
     ]
    },
    {
     "data": {
      "text/plain": [
       "86.90318203748626"
      ]
     },
     "execution_count": 39,
     "metadata": {},
     "output_type": "execute_result"
    }
   ],
   "source": [
    "sum(np.array(trading_costs(agents, model_3)) + np.array(second_stage_resolution(model_3, agents, actual_generations)[1]))"
   ]
  },
  {
   "cell_type": "code",
   "execution_count": 40,
   "metadata": {},
   "outputs": [
    {
     "name": "stdout",
     "output_type": "stream",
     "text": [
      "q_0_1: -3.0 -10.0\n",
      "q_0_2: 0.0 0.0\n",
      "q_0_3: -3.0 10.0\n",
      "q_0_4: -3.0 -10.0\n",
      "q_1_0: 0.0 10.0\n",
      "q_1_2: -3.0 10.0\n",
      "q_1_3: -3.0 -10.0\n",
      "q_1_4: 0.0 -10.0\n",
      "q_2_0: -3.0 0.0\n",
      "q_2_1: 0.0 -10.0\n",
      "q_2_3: -3.0 10.0\n",
      "q_2_4: 0.0 3.0\n",
      "q_3_0: 0.0 -10.0\n",
      "q_3_1: 0.0 10.0\n",
      "q_3_2: 0.0 -10.0\n",
      "q_3_4: -3.0 10.0\n",
      "q_4_0: 0.0 10.0\n",
      "q_4_1: -3.0 10.0\n",
      "q_4_2: -3.0 -3.0\n",
      "q_4_3: 0.0 -10.0\n"
     ]
    },
    {
     "data": {
      "text/plain": [
       "12.0"
      ]
     },
     "execution_count": 40,
     "metadata": {},
     "output_type": "execute_result"
    }
   ],
   "source": [
    "sum(np.array(trading_costs(agents, model_4)) + np.array(second_stage_resolution(model_4, agents, actual_generations)[1]))"
   ]
  },
  {
   "cell_type": "code",
   "execution_count": 41,
   "metadata": {},
   "outputs": [
    {
     "data": {
      "text/plain": [
       "[<gurobi.Var Agent 0 day-ahead purchase (value 13.0)>,\n",
       " <gurobi.Var Agent 0 day-ahead sale (value 0.0)>,\n",
       " <gurobi.Var Agent 0 proba 50 real-time purchase (value 0.0)>,\n",
       " <gurobi.Var Agent 0 proba 50 real-time sale (value 0.0)>,\n",
       " <gurobi.Var q_0_1 (value -10.0)>,\n",
       " <gurobi.Var q_0_2 (value 0.0)>,\n",
       " <gurobi.Var q_0_3 (value 10.0)>,\n",
       " <gurobi.Var q_0_4 (value -10.0)>,\n",
       " <gurobi.Var Agent 0 net trading (value -10.0)>,\n",
       " <gurobi.Var Agent 1 day-ahead purchase (value 3.0)>,\n",
       " <gurobi.Var Agent 1 day-ahead sale (value 0.0)>,\n",
       " <gurobi.Var Agent 1 proba 50 real-time purchase (value 0.0)>,\n",
       " <gurobi.Var Agent 1 proba 50 real-time sale (value 0.0)>,\n",
       " <gurobi.Var q_1_0 (value 10.0)>,\n",
       " <gurobi.Var q_1_2 (value 10.0)>,\n",
       " <gurobi.Var q_1_3 (value -10.0)>,\n",
       " <gurobi.Var q_1_4 (value -10.0)>,\n",
       " <gurobi.Var Agent 1 net trading (value 0.0)>,\n",
       " <gurobi.Var Agent 2 day-ahead purchase (value 0.0)>,\n",
       " <gurobi.Var Agent 2 day-ahead sale (value 0.0)>,\n",
       " <gurobi.Var Agent 2 proba 50 real-time purchase (value 0.0)>,\n",
       " <gurobi.Var Agent 2 proba 50 real-time sale (value 0.0)>,\n",
       " <gurobi.Var q_2_0 (value 0.0)>,\n",
       " <gurobi.Var q_2_1 (value -10.0)>,\n",
       " <gurobi.Var q_2_3 (value 10.0)>,\n",
       " <gurobi.Var q_2_4 (value 3.0)>,\n",
       " <gurobi.Var Agent 2 net trading (value 3.0)>,\n",
       " <gurobi.Var Agent 3 day-ahead purchase (value 5.0)>,\n",
       " <gurobi.Var Agent 3 day-ahead sale (value 0.0)>,\n",
       " <gurobi.Var Agent 3 proba 50 real-time purchase (value 0.0)>,\n",
       " <gurobi.Var Agent 3 proba 50 real-time sale (value 0.0)>,\n",
       " <gurobi.Var q_3_0 (value -10.0)>,\n",
       " <gurobi.Var q_3_1 (value 10.0)>,\n",
       " <gurobi.Var q_3_2 (value -10.0)>,\n",
       " <gurobi.Var q_3_4 (value 10.0)>,\n",
       " <gurobi.Var Agent 3 net trading (value 0.0)>,\n",
       " <gurobi.Var Agent 4 day-ahead purchase (value 0.0)>,\n",
       " <gurobi.Var Agent 4 day-ahead sale (value 0.0)>,\n",
       " <gurobi.Var Agent 4 proba 50 real-time purchase (value 0.0)>,\n",
       " <gurobi.Var Agent 4 proba 50 real-time sale (value 0.0)>,\n",
       " <gurobi.Var q_4_0 (value 10.0)>,\n",
       " <gurobi.Var q_4_1 (value 10.0)>,\n",
       " <gurobi.Var q_4_2 (value -3.0)>,\n",
       " <gurobi.Var q_4_3 (value -10.0)>,\n",
       " <gurobi.Var Agent 4 net trading (value 7.0)>]"
      ]
     },
     "execution_count": 41,
     "metadata": {},
     "output_type": "execute_result"
    }
   ],
   "source": [
    "model_4.getVars()"
   ]
  },
  {
   "cell_type": "code",
   "execution_count": 42,
   "metadata": {},
   "outputs": [
    {
     "data": {
      "text/plain": [
       "<gurobi.LinExpr: 3.0 Agent 0 day-ahead purchase + -2.0 Agent 0 day-ahead sale + 4.0 Agent 0 proba 50 real-time purchase + -1.0 Agent 0 proba 50 real-time sale + 3.0 Agent 1 day-ahead purchase + -2.0 Agent 1 day-ahead sale + 4.0 Agent 1 proba 50 real-time purchase + -1.0 Agent 1 proba 50 real-time sale + 3.0 Agent 2 day-ahead purchase + -2.0 Agent 2 day-ahead sale + 4.0 Agent 2 proba 50 real-time purchase + -1.0 Agent 2 proba 50 real-time sale + 3.0 Agent 3 day-ahead purchase + -2.0 Agent 3 day-ahead sale + 4.0 Agent 3 proba 50 real-time purchase + -1.0 Agent 3 proba 50 real-time sale + 3.0 Agent 4 day-ahead purchase + -2.0 Agent 4 day-ahead sale + 4.0 Agent 4 proba 50 real-time purchase + -1.0 Agent 4 proba 50 real-time sale>"
      ]
     },
     "execution_count": 42,
     "metadata": {},
     "output_type": "execute_result"
    }
   ],
   "source": [
    "model_4.getObjective()"
   ]
  },
  {
   "cell_type": "code",
   "execution_count": 43,
   "metadata": {},
   "outputs": [
    {
     "name": "stdout",
     "output_type": "stream",
     "text": [
      "Minimize\n",
      "<gurobi.LinExpr: 3.0 Agent 0 day-ahead purchase + -2.0 Agent 0 day-ahead sale\n",
      "+ 4.0 Agent 0 proba 50 real-time purchase + -1.0 Agent 0 proba 50 real-time sale\n",
      "+ 3.0 Agent 1 day-ahead purchase + -2.0 Agent 1 day-ahead sale\n",
      "+ 4.0 Agent 1 proba 50 real-time purchase + -1.0 Agent 1 proba 50 real-time sale\n",
      "+ 3.0 Agent 2 day-ahead purchase + -2.0 Agent 2 day-ahead sale\n",
      "+ 4.0 Agent 2 proba 50 real-time purchase + -1.0 Agent 2 proba 50 real-time sale\n",
      "+ 3.0 Agent 3 day-ahead purchase + -2.0 Agent 3 day-ahead sale\n",
      "+ 4.0 Agent 3 proba 50 real-time purchase + -1.0 Agent 3 proba 50 real-time sale\n",
      "+ 3.0 Agent 4 day-ahead purchase + -2.0 Agent 4 day-ahead sale\n",
      "+ 4.0 Agent 4 proba 50 real-time purchase + -1.0 Agent 4 proba 50 real-time sale>\n",
      "Subject To\n",
      "Net trading constraint: <gurobi.LinExpr: -1.0 q_0_1 + -1.0 q_0_2 + -1.0 q_0_3 + -1.0\n",
      " q_0_4 + Agent 0 net trading> = 0\n",
      "SD balance for agent 0 proba 50: <gurobi.LinExpr: -1.0 Agent 0 day-ahead purchase +\n",
      "Agent 0 day-ahead sale + -1.0 Agent 0 proba 50 real-time purchase + Agent 0 proba 50\n",
      " real-time sale + -1.0 Agent 0 net trading> = -3\n",
      "  Bilateral trading for pair (0, 1): <gurobi.LinExpr: q_0_1 + q_1_0> = 0\n",
      "  Bilateral trading for pair (0, 2): <gurobi.LinExpr: q_0_2 + q_2_0> = 0\n",
      "  Bilateral trading for pair (0, 3): <gurobi.LinExpr: q_0_3 + q_3_0> = 0\n",
      "  Bilateral trading for pair (0, 4): <gurobi.LinExpr: q_0_4 + q_4_0> = 0\n",
      "Net trading constraint: <gurobi.LinExpr: -1.0 q_1_0 + -1.0 q_1_2 + -1.0 q_1_3 + -1.0\n",
      " q_1_4 + Agent 1 net trading> = 0\n",
      "SD balance for agent 1 proba 50: <gurobi.LinExpr: -1.0 Agent 1 day-ahead purchase +\n",
      "Agent 1 day-ahead sale + -1.0 Agent 1 proba 50 real-time purchase + Agent 1 proba 50\n",
      " real-time sale + -1.0 Agent 1 net trading> = -3\n",
      "  Bilateral trading for pair (1, 0): <gurobi.LinExpr: q_0_1 + q_1_0> = 0\n",
      "  Bilateral trading for pair (1, 2): <gurobi.LinExpr: q_1_2 + q_2_1> = 0\n",
      "  Bilateral trading for pair (1, 3): <gurobi.LinExpr: q_1_3 + q_3_1> = 0\n",
      "  Bilateral trading for pair (1, 4): <gurobi.LinExpr: q_1_4 + q_4_1> = 0\n",
      "Net trading constraint: <gurobi.LinExpr: -1.0 q_2_0 + -1.0 q_2_1 + -1.0 q_2_3 + -1.0\n",
      " q_2_4 + Agent 2 net trading> = 0\n",
      "SD balance for agent 2 proba 50: <gurobi.LinExpr: -1.0 Agent 2 day-ahead purchase +\n",
      "Agent 2 day-ahead sale + -1.0 Agent 2 proba 50 real-time purchase + Agent 2 proba 50\n",
      " real-time sale + -1.0 Agent 2 net trading> = -3\n",
      "  Bilateral trading for pair (2, 0): <gurobi.LinExpr: q_0_2 + q_2_0> = 0\n",
      "  Bilateral trading for pair (2, 1): <gurobi.LinExpr: q_1_2 + q_2_1> = 0\n",
      "  Bilateral trading for pair (2, 3): <gurobi.LinExpr: q_2_3 + q_3_2> = 0\n",
      "  Bilateral trading for pair (2, 4): <gurobi.LinExpr: q_2_4 + q_4_2> = 0\n",
      "Net trading constraint: <gurobi.LinExpr: -1.0 q_3_0 + -1.0 q_3_1 + -1.0 q_3_2 + -1.0\n",
      " q_3_4 + Agent 3 net trading> = 0\n",
      "SD balance for agent 3 proba 50: <gurobi.LinExpr: -1.0 Agent 3 day-ahead purchase +\n",
      "Agent 3 day-ahead sale + -1.0 Agent 3 proba 50 real-time purchase + Agent 3 proba 50\n",
      " real-time sale + -1.0 Agent 3 net trading> = -5\n",
      "  Bilateral trading for pair (3, 0): <gurobi.LinExpr: q_0_3 + q_3_0> = 0\n",
      "  Bilateral trading for pair (3, 1): <gurobi.LinExpr: q_1_3 + q_3_1> = 0\n",
      "  Bilateral trading for pair (3, 2): <gurobi.LinExpr: q_2_3 + q_3_2> = 0\n",
      "  Bilateral trading for pair (3, 4): <gurobi.LinExpr: q_3_4 + q_4_3> = 0\n",
      "Net trading constraint: <gurobi.LinExpr: -1.0 q_4_0 + -1.0 q_4_1 + -1.0 q_4_2 + -1.0\n",
      " q_4_3 + Agent 4 net trading> = 0\n",
      "SD balance for agent 4 proba 50: <gurobi.LinExpr: -1.0 Agent 4 day-ahead purchase +\n",
      "Agent 4 day-ahead sale + -1.0 Agent 4 proba 50 real-time purchase + Agent 4 proba 50\n",
      " real-time sale + -1.0 Agent 4 net trading> = -7\n",
      "  Bilateral trading for pair (4, 0): <gurobi.LinExpr: q_0_4 + q_4_0> = 0\n",
      "  Bilateral trading for pair (4, 1): <gurobi.LinExpr: q_1_4 + q_4_1> = 0\n",
      "  Bilateral trading for pair (4, 2): <gurobi.LinExpr: q_2_4 + q_4_2> = 0\n",
      "  Bilateral trading for pair (4, 3): <gurobi.LinExpr: q_3_4 + q_4_3> = 0\n",
      "Bounds\n",
      "  0 <= Agent 0 day-ahead sale <= 10\n",
      "  0 <= Agent 0 proba 50 real-time sale <= 10\n",
      "  -10 <= q_0_1 <= 10\n",
      "  -10 <= q_0_2 <= 10\n",
      "  -10 <= q_0_3 <= 10\n",
      "  -10 <= q_0_4 <= 10\n",
      "  Agent 0 net trading free\n",
      "  0 <= Agent 1 day-ahead sale <= 10\n",
      "  0 <= Agent 1 proba 50 real-time sale <= 10\n",
      "  -10 <= q_1_0 <= 10\n",
      "  -10 <= q_1_2 <= 10\n",
      "  -10 <= q_1_3 <= 10\n",
      "  -10 <= q_1_4 <= 10\n",
      "  Agent 1 net trading free\n",
      "  0 <= Agent 2 day-ahead sale <= 10\n",
      "  0 <= Agent 2 proba 50 real-time sale <= 10\n",
      "  -10 <= q_2_0 <= 10\n",
      "  -10 <= q_2_1 <= 10\n",
      "  -10 <= q_2_3 <= 10\n",
      "  -10 <= q_2_4 <= 10\n",
      "  Agent 2 net trading free\n",
      "  0 <= Agent 3 day-ahead sale <= 10\n",
      "  0 <= Agent 3 proba 50 real-time sale <= 10\n",
      "  -10 <= q_3_0 <= 10\n",
      "  -10 <= q_3_1 <= 10\n",
      "  -10 <= q_3_2 <= 10\n",
      "  -10 <= q_3_4 <= 10\n",
      "  Agent 3 net trading free\n",
      "  0 <= Agent 4 day-ahead sale <= 10\n",
      "  0 <= Agent 4 proba 50 real-time sale <= 10\n",
      "  -10 <= q_4_0 <= 10\n",
      "  -10 <= q_4_1 <= 10\n",
      "  -10 <= q_4_2 <= 10\n",
      "  -10 <= q_4_3 <= 10\n",
      "  Agent 4 net trading free\n"
     ]
    }
   ],
   "source": [
    "model_4.display()"
   ]
  },
  {
   "cell_type": "code",
   "execution_count": 44,
   "metadata": {},
   "outputs": [
    {
     "data": {
      "text/plain": [
       "[<gurobi.Var Agent 0 day-ahead purchase (value 13.0)>,\n",
       " <gurobi.Var Agent 0 day-ahead sale (value 0.0)>,\n",
       " <gurobi.Var Agent 0 proba 50 real-time purchase (value 0.0)>,\n",
       " <gurobi.Var Agent 0 proba 50 real-time sale (value 0.0)>,\n",
       " <gurobi.Var q_0_1 (value -10.0)>,\n",
       " <gurobi.Var q_0_2 (value 0.0)>,\n",
       " <gurobi.Var q_0_3 (value 10.0)>,\n",
       " <gurobi.Var q_0_4 (value -10.0)>,\n",
       " <gurobi.Var Agent 0 net trading (value -10.0)>,\n",
       " <gurobi.Var Agent 1 day-ahead purchase (value 3.0)>,\n",
       " <gurobi.Var Agent 1 day-ahead sale (value 0.0)>,\n",
       " <gurobi.Var Agent 1 proba 50 real-time purchase (value 0.0)>,\n",
       " <gurobi.Var Agent 1 proba 50 real-time sale (value 0.0)>,\n",
       " <gurobi.Var q_1_0 (value 10.0)>,\n",
       " <gurobi.Var q_1_2 (value 10.0)>,\n",
       " <gurobi.Var q_1_3 (value -10.0)>,\n",
       " <gurobi.Var q_1_4 (value -10.0)>,\n",
       " <gurobi.Var Agent 1 net trading (value 0.0)>,\n",
       " <gurobi.Var Agent 2 day-ahead purchase (value 0.0)>,\n",
       " <gurobi.Var Agent 2 day-ahead sale (value 0.0)>,\n",
       " <gurobi.Var Agent 2 proba 50 real-time purchase (value 0.0)>,\n",
       " <gurobi.Var Agent 2 proba 50 real-time sale (value 0.0)>,\n",
       " <gurobi.Var q_2_0 (value 0.0)>,\n",
       " <gurobi.Var q_2_1 (value -10.0)>,\n",
       " <gurobi.Var q_2_3 (value 10.0)>,\n",
       " <gurobi.Var q_2_4 (value 3.0)>,\n",
       " <gurobi.Var Agent 2 net trading (value 3.0)>,\n",
       " <gurobi.Var Agent 3 day-ahead purchase (value 5.0)>,\n",
       " <gurobi.Var Agent 3 day-ahead sale (value 0.0)>,\n",
       " <gurobi.Var Agent 3 proba 50 real-time purchase (value 0.0)>,\n",
       " <gurobi.Var Agent 3 proba 50 real-time sale (value 0.0)>,\n",
       " <gurobi.Var q_3_0 (value -10.0)>,\n",
       " <gurobi.Var q_3_1 (value 10.0)>,\n",
       " <gurobi.Var q_3_2 (value -10.0)>,\n",
       " <gurobi.Var q_3_4 (value 10.0)>,\n",
       " <gurobi.Var Agent 3 net trading (value 0.0)>,\n",
       " <gurobi.Var Agent 4 day-ahead purchase (value 0.0)>,\n",
       " <gurobi.Var Agent 4 day-ahead sale (value 0.0)>,\n",
       " <gurobi.Var Agent 4 proba 50 real-time purchase (value 0.0)>,\n",
       " <gurobi.Var Agent 4 proba 50 real-time sale (value 0.0)>,\n",
       " <gurobi.Var q_4_0 (value 10.0)>,\n",
       " <gurobi.Var q_4_1 (value 10.0)>,\n",
       " <gurobi.Var q_4_2 (value -3.0)>,\n",
       " <gurobi.Var q_4_3 (value -10.0)>,\n",
       " <gurobi.Var Agent 4 net trading (value 7.0)>]"
      ]
     },
     "execution_count": 44,
     "metadata": {},
     "output_type": "execute_result"
    }
   ],
   "source": [
    "model_4.getVars()"
   ]
  },
  {
   "cell_type": "code",
   "execution_count": 45,
   "metadata": {},
   "outputs": [
    {
     "name": "stdout",
     "output_type": "stream",
     "text": [
      "[0.86675865 0.76775703 0.85600602 0.82279556 0.82409878]\n",
      "[0.36197763 0.4222321  0.41190683 0.39990153 0.34482771]\n",
      "[0.07627592 0.08299935 0.06921011 0.07746707 0.07862886]\n",
      "[0. 0. 0. 0. 0.]\n"
     ]
    }
   ],
   "source": [
    "print(np.array(second_stage_resolution(model_1, agents, actual_generations)[0]))\n",
    "print(np.array(second_stage_resolution(model_2, agents, actual_generations)[0]))\n",
    "print(np.array(second_stage_resolution(model_3, agents, actual_generations)[0]))\n",
    "print(np.array(second_stage_resolution(model_4, agents, actual_generations)[0]))"
   ]
  },
  {
   "cell_type": "code",
   "execution_count": 46,
   "metadata": {},
   "outputs": [
    {
     "name": "stdout",
     "output_type": "stream",
     "text": [
      "Model_1 net trades: [2.1332413450350955, 2.2322429726195487, 2.1439939764624967, -12.685379511775125, 6.175901217657984]\n",
      "Model_2 net trades: [2.6380223700205834, -16.48138629800655, 2.588093170733117, 4.600098469105463, 6.655172288147388]\n",
      "Model_3 net trades: [-17.69169461155819, 2.917000647262192, 2.9307898922068336, 4.922532928268238, 6.921371143820928]\n",
      "Model_4 net trades: [-10.0, 0.0, 3.0, 0.0, 7.0]\n"
     ]
    }
   ],
   "source": [
    "print('Model_1 net trades:', [model_1.getVarByName(f'Agent {id} net trading').X for id, _ in enumerate(agents)])\n",
    "print('Model_2 net trades:', [model_2.getVarByName(f'Agent {id} net trading').X for id, _ in enumerate(agents)])\n",
    "print('Model_3 net trades:', [model_3.getVarByName(f'Agent {id} net trading').X for id, _ in enumerate(agents)])\n",
    "print('Model_4 net trades:', [model_4.getVarByName(f'Agent {id} net trading').X for id, _ in enumerate(agents)])"
   ]
  },
  {
   "cell_type": "code",
   "execution_count": 47,
   "metadata": {},
   "outputs": [
    {
     "name": "stdout",
     "output_type": "stream",
     "text": [
      "[ 3.46703462  3.07102811  3.42402409 53.87893409  3.29639513]\n",
      "[ 1.44791052 58.866391    1.64762732  1.59960612  1.37931085]\n",
      "[62.15135976  0.33199741  0.27684043  0.30986829  0.31451542]\n",
      "[39.  9.  0. 15.  0.]\n"
     ]
    }
   ],
   "source": [
    "print(np.array(second_stage_resolution(model_1, agents, actual_generations)[1]))\n",
    "print(np.array(second_stage_resolution(model_2, agents, actual_generations)[1]))\n",
    "print(np.array(second_stage_resolution(model_3, agents, actual_generations)[1]))\n",
    "print(np.array(second_stage_resolution(model_4, agents, actual_generations)[1]))"
   ]
  },
  {
   "cell_type": "code",
   "execution_count": 48,
   "metadata": {},
   "outputs": [
    {
     "name": "stdout",
     "output_type": "stream",
     "text": [
      "67.13741604453385\n",
      "64.94084580393056\n",
      "63.38458131089497\n",
      "63.0\n"
     ]
    }
   ],
   "source": [
    "print(np.array(second_stage_resolution(model_1, agents, actual_generations)[1]).sum())\n",
    "print(np.array(second_stage_resolution(model_2, agents, actual_generations)[1]).sum())\n",
    "print(np.array(second_stage_resolution(model_3, agents, actual_generations)[1]).sum())\n",
    "print(np.array(second_stage_resolution(model_4, agents, actual_generations)[1]).sum())"
   ]
  },
  {
   "cell_type": "code",
   "execution_count": 49,
   "metadata": {},
   "outputs": [],
   "source": [
    "total_costs = [np.array(second_stage_resolution(model_1, agents, actual_generations)[1]).sum(),\n",
    "            np.array(second_stage_resolution(model_2, agents, actual_generations)[1]).sum(),\n",
    "            np.array(second_stage_resolution(model_3, agents, actual_generations)[1]).sum(),\n",
    "            np.array(second_stage_resolution(model_4, agents, actual_generations)[1]).sum()]"
   ]
  },
  {
   "cell_type": "code",
   "execution_count": 50,
   "metadata": {},
   "outputs": [],
   "source": [
    "variance = [2.0, 1.0, 0.5, 0.0]"
   ]
  },
  {
   "cell_type": "code",
   "execution_count": 51,
   "metadata": {},
   "outputs": [
    {
     "name": "stdout",
     "output_type": "stream",
     "text": [
      "2.0 67.13741604453385\n",
      "1.0 64.94084580393056\n",
      "0.5 63.38458131089497\n",
      "0.0 63.0\n"
     ]
    }
   ],
   "source": [
    "for i in range(4):\n",
    "    print(variance[i], total_costs[i])"
   ]
  },
  {
   "cell_type": "code",
   "execution_count": 52,
   "metadata": {},
   "outputs": [
    {
     "data": {
      "image/png": "[encoded data removed]",
      "text/plain": [
       "<Figure size 432x288 with 1 Axes>"
      ]
     },
     "metadata": {},
     "output_type": "display_data"
    }
   ],
   "source": [
    "fig, plot = plt.subplots()\n",
    "sns.set_style('white')\n",
    "\n",
    "for i in range(4):\n",
    "    plt.scatter(variance[i], total_costs[i], marker = 'X', s= 200, label = f'SD = {variance[i]}');\n",
    "\n",
    "plt.plot(variance, total_costs, linestyle='dashed')\n",
    "\n",
    "plt.legend()\n",
    "plt.ylabel('Total costs, [\\$]', fontsize = 12)\n",
    "plt.xlabel('Standard deviation of the noise', fontsize = 12)\n",
    "#plt.vlines([2.0, 1.0, 0.5, 0.0], 63, 67, linestyles='dashed', colors='gray')\n",
    "plot.invert_xaxis();"
   ]
  },
  {
   "cell_type": "code",
   "execution_count": 53,
   "metadata": {},
   "outputs": [
    {
     "ename": "NameError",
     "evalue": "name 'sum_RN' is not defined",
     "output_type": "error",
     "traceback": [
      "\u001b[0;31m---------------------------------------------------------------------------\u001b[0m",
      "\u001b[0;31mNameError\u001b[0m                                 Traceback (most recent call last)",
      "\u001b[0;32m/var/folders/98/gq_0lybs5k55th2hc4jstmyw00m7tv/T/ipykernel_21000/1033388573.py\u001b[0m in \u001b[0;36m<module>\u001b[0;34m\u001b[0m\n\u001b[0;32m----> 1\u001b[0;31m \u001b[0msns\u001b[0m\u001b[0;34m.\u001b[0m\u001b[0mswarmplot\u001b[0m\u001b[0;34m(\u001b[0m\u001b[0mx\u001b[0m \u001b[0;34m=\u001b[0m \u001b[0;34m[\u001b[0m\u001b[0;36m0\u001b[0m\u001b[0;34m,\u001b[0m\u001b[0;36m1\u001b[0m\u001b[0;34m,\u001b[0m\u001b[0;36m2\u001b[0m\u001b[0;34m,\u001b[0m\u001b[0;36m3\u001b[0m\u001b[0;34m,\u001b[0m\u001b[0;36m4\u001b[0m\u001b[0;34m,\u001b[0m\u001b[0;36m5\u001b[0m\u001b[0;34m]\u001b[0m\u001b[0;34m,\u001b[0m \u001b[0my\u001b[0m \u001b[0;34m=\u001b[0m \u001b[0;34m[\u001b[0m\u001b[0msum_RN\u001b[0m\u001b[0;34m,\u001b[0m \u001b[0msum_without_contracts\u001b[0m\u001b[0;34m,\u001b[0m \u001b[0msum_only_IC\u001b[0m\u001b[0;34m,\u001b[0m \u001b[0msum_no_IC\u001b[0m\u001b[0;34m,\u001b[0m \u001b[0msum_opt\u001b[0m\u001b[0;34m,\u001b[0m \u001b[0msum_pes\u001b[0m\u001b[0;34m]\u001b[0m\u001b[0;34m,\u001b[0m \u001b[0mmarker\u001b[0m \u001b[0;34m=\u001b[0m \u001b[0mmarkers\u001b[0m\u001b[0;34m[\u001b[0m\u001b[0mi\u001b[0m \u001b[0;34m%\u001b[0m \u001b[0;36m5\u001b[0m\u001b[0;34m]\u001b[0m\u001b[0;34m,\u001b[0m \u001b[0ms\u001b[0m \u001b[0;34m=\u001b[0m \u001b[0;36m12\u001b[0m\u001b[0;34m,\u001b[0m \u001b[0mlinewidth\u001b[0m\u001b[0;34m=\u001b[0m\u001b[0;36m1\u001b[0m\u001b[0;34m)\u001b[0m\u001b[0;34m\u001b[0m\u001b[0;34m\u001b[0m\u001b[0m\n\u001b[0m",
      "\u001b[0;31mNameError\u001b[0m: name 'sum_RN' is not defined"
     ]
    }
   ],
   "source": [
    "sns.swarmplot(x = [0,1,2,3,4,5], y = [sum_RN, sum_without_contracts, sum_only_IC, sum_no_IC, sum_opt, sum_pes], marker = markers[i % 5], s = 12, linewidth=1)\n"
   ]
  }
 ],
 "metadata": {
  "kernelspec": {
   "display_name": "Python 3.9.12 64-bit",
   "language": "python",
   "name": "python3"
  },
  "language_info": {
   "codemirror_mode": {
    "name": "ipython",
    "version": 3
   },
   "file_extension": ".py",
   "mimetype": "text/x-python",
   "name": "python",
   "nbconvert_exporter": "python",
   "pygments_lexer": "ipython3",
   "version": "3.9.12"
  },
  "orig_nbformat": 4,
  "vscode": {
   "interpreter": {
    "hash": "b0fa6594d8f4cbf19f97940f81e996739fb7646882a419484c72d19e05852a7e"
   }
  }
 },
 "nbformat": 4,
 "nbformat_minor": 2
}
