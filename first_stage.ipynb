{
 "cells": [
  {
   "cell_type": "code",
   "execution_count": 1,
   "metadata": {},
   "outputs": [],
   "source": [
    "import gurobipy as gp\n",
    "import numpy as np\n",
    "import pandas as pd\n",
    "from scipy import stats\n",
    "\n",
    "\n",
    "from gurobi_implementation import GurobiSolution\n",
    "from data_market import Seller, MarketOperator, Market, Buyer\n",
    "from p2p_gurobi import Agents, FirstStageMarket"
   ]
  },
  {
   "cell_type": "code",
   "execution_count": 2,
   "metadata": {},
   "outputs": [],
   "source": [
    "import matplotlib.pyplot as plt\n",
    "\n",
    "import seaborn as sns\n",
    "sns.set()"
   ]
  },
  {
   "cell_type": "code",
   "execution_count": 3,
   "metadata": {},
   "outputs": [],
   "source": [
    "connection_matrix = [[0, 1, 1, 1, 1],\n",
    "                    [1, 0, 1, 1, 1],\n",
    "                    [1, 1, 0, 1, 1],\n",
    "                    [1, 1, 1, 0, 1],\n",
    "                    [1, 1, 1, 1, 0]]\n",
    "\n",
    "kappa = [[0, 10, 10, 10, 10],\n",
    "        [10, 0, 10, 10, 10],\n",
    "        [10, 10, 0, 10, 10],\n",
    "        [10, 10, 10, 0, 10],\n",
    "        [10, 10, 10, 10, 0]]    \n",
    "\n",
    "#kappa = [[1 for i in range(5)] for k in range(5)]               "
   ]
  },
  {
   "cell_type": "code",
   "execution_count": 4,
   "metadata": {},
   "outputs": [],
   "source": [
    "#model_1\n",
    "actual_generations = [3, 4, 5, 4, 3]\n",
    "demand = [6, 7, 8, 9, 10]\n",
    "\n",
    "price_da_buy = 3\n",
    "price_da_sell = 2\n",
    "price_rt_buy = 4\n",
    "price_rt_sell = 1\n",
    "\n",
    "base_forecasts = [stats.norm(loc = generation, scale = 2.0) for generation in actual_generations]\n",
    "\n",
    "agents_forecasts = []\n",
    "for base_forecast in base_forecasts:\n",
    "    probas, values = np.histogram(base_forecast.rvs(100000), bins = 100, density = True)\n",
    "    probas = probas / probas.sum()\n",
    "    agents_forecasts.append((probas, values))\n",
    "\n",
    "agents = []\n",
    "for id, actual_generation in enumerate(actual_generations):\n",
    "    agent = Agents(id = id,\n",
    "                probabilities = agents_forecasts[id][0],\n",
    "                generation_values = agents_forecasts[id][1],\n",
    "                demand = demand[id],\n",
    "                connections = connection_matrix[id],\n",
    "                kappa = kappa[id])\n",
    "\n",
    "    agents.append(agent)"
   ]
  },
  {
   "cell_type": "code",
   "execution_count": 5,
   "metadata": {},
   "outputs": [
    {
     "data": {
      "image/png": "[encoded data removed]",
      "text/plain": [
       "<Figure size 432x288 with 1 Axes>"
      ]
     },
     "metadata": {},
     "output_type": "display_data"
    }
   ],
   "source": [
    "for i in range(5):\n",
    "    plt.hist(base_forecasts[i].rvs(100000), bins = 100, density = True);"
   ]
  },
  {
   "cell_type": "code",
   "execution_count": 6,
   "metadata": {},
   "outputs": [],
   "source": [
    "model_1 = gp.Model()"
   ]
  },
  {
   "cell_type": "code",
   "execution_count": 7,
   "metadata": {},
   "outputs": [],
   "source": [
    "market_1 = FirstStageMarket(agents= agents,\n",
    "                            model = model_1,\n",
    "                            price_da_buy = price_da_buy,\n",
    "                            price_da_sell = price_da_sell,\n",
    "                            price_rt_buy = price_rt_buy,\n",
    "                            price_rt_sell = price_rt_sell)"
   ]
  },
  {
   "cell_type": "code",
   "execution_count": 8,
   "metadata": {},
   "outputs": [],
   "source": [
    "market_1.build_model()"
   ]
  },
  {
   "cell_type": "code",
   "execution_count": 9,
   "metadata": {},
   "outputs": [
    {
     "name": "stdout",
     "output_type": "stream",
     "text": [
      "Gurobi Optimizer version 9.5.0 build v9.5.0rc5 (mac64[arm])\n",
      "Thread count: 8 physical cores, 8 logical processors, using up to 8 threads\n",
      "Optimize a model with 499 rows, 983 columns and 2435 nonzeros\n",
      "Model fingerprint: 0x71b24a43\n",
      "Coefficient statistics:\n",
      "  Matrix range     [1e+00, 1e+00]\n",
      "  Objective range  [1e-05, 3e+00]\n",
      "  Bounds range     [1e+01, 1e+01]\n",
      "  RHS range        [2e-02, 2e+01]\n",
      "Presolve removed 20 rows and 10 columns\n",
      "Presolve time: 0.01s\n",
      "Presolved: 479 rows, 973 columns, 2395 nonzeros\n",
      "\n",
      "Iteration    Objective       Primal Inf.    Dual Inf.      Time\n",
      "       0      handle free variables                          0s\n",
      "     726    8.7178898e+01   0.000000e+00   0.000000e+00      0s\n",
      "\n",
      "Solved in 726 iterations and 0.01 seconds (0.01 work units)\n",
      "Optimal objective  8.717889785e+01\n"
     ]
    }
   ],
   "source": [
    "model_1.optimize()"
   ]
  },
  {
   "cell_type": "code",
   "execution_count": 10,
   "metadata": {},
   "outputs": [],
   "source": [
    "def second_stage_resolution(model, agents, actual_generations):\n",
    "    second_stage_decisions = []\n",
    "    actual_costs = []\n",
    "    for agent in agents:\n",
    "        second_stage_decision = (agent.demand \n",
    "                                - actual_generations[agent.id] \n",
    "                                - model.getVarByName(f'Agent {agent.id} day-ahead purchase').X\n",
    "                                + model.getVarByName(f'Agent {agent.id} day-ahead sale').X\n",
    "                                - model.getVarByName(f'Agent {agent.id} net trading').X)\n",
    "\n",
    "        second_stage_cost = price_rt_buy * second_stage_decision if second_stage_decision > 0 else price_rt_sell * second_stage_decision\n",
    "\n",
    "        second_stage_decisions.append(second_stage_decision)\n",
    "\n",
    "        actual_cost = (price_da_buy * model.getVarByName(f'Agent {agent.id} day-ahead purchase').X \n",
    "                    - price_da_sell * model.getVarByName(f'Agent {agent.id} day-ahead sale').X\n",
    "                    + second_stage_cost)\n",
    "\n",
    "\n",
    "        actual_costs.append(actual_cost)\n",
    "\n",
    "    return second_stage_decisions, actual_costs\n",
    "        "
   ]
  },
  {
   "cell_type": "code",
   "execution_count": 11,
   "metadata": {},
   "outputs": [
    {
     "data": {
      "text/plain": [
       "([0.7456521049106826,\n",
       "  -0.27484121398219763,\n",
       "  -1.2886643151806414,\n",
       "  -0.31699078264521674,\n",
       "  0.8054299589226765],\n",
       " [2.9826084196427303,\n",
       "  -0.27484121398219763,\n",
       "  -1.2886643151806414,\n",
       "  63.67125196127887,\n",
       "  3.221719835690706])"
      ]
     },
     "execution_count": 11,
     "metadata": {},
     "output_type": "execute_result"
    }
   ],
   "source": [
    "second_stage_resolution(model_1, agents, actual_generations)"
   ]
  },
  {
   "cell_type": "code",
   "execution_count": 12,
   "metadata": {},
   "outputs": [
    {
     "data": {
      "text/plain": [
       "68.31207468744947"
      ]
     },
     "execution_count": 12,
     "metadata": {},
     "output_type": "execute_result"
    }
   ],
   "source": [
    "sum(second_stage_resolution(model_1, agents, actual_generations)[1])"
   ]
  },
  {
   "cell_type": "code",
   "execution_count": 13,
   "metadata": {},
   "outputs": [],
   "source": [
    "#model_2\n",
    "actual_generations = [3, 4, 5, 4, 3]\n",
    "demand = [6, 7, 8, 9, 10]\n",
    "\n",
    "price_da_buy = 3\n",
    "price_da_sell = 2\n",
    "price_rt_buy = 4\n",
    "price_rt_sell = 1\n",
    "\n",
    "base_forecasts = [stats.norm(loc = generation, scale = 1.0) for generation in actual_generations]\n",
    "\n",
    "agents_forecasts = []\n",
    "for base_forecast in base_forecasts:\n",
    "    probas, values = np.histogram(base_forecast.rvs(100000), bins = 100, density = True)\n",
    "    probas = probas / probas.sum()\n",
    "    agents_forecasts.append((probas, values))\n",
    "\n",
    "agents = []\n",
    "for id, actual_generation in enumerate(actual_generations):\n",
    "    agent = Agents(id = id,\n",
    "                probabilities = agents_forecasts[id][0],\n",
    "                generation_values = agents_forecasts[id][1],\n",
    "                demand = demand[id],\n",
    "                connections = connection_matrix[id],\n",
    "                kappa = kappa[id])\n",
    "\n",
    "    agents.append(agent)"
   ]
  },
  {
   "cell_type": "code",
   "execution_count": 14,
   "metadata": {},
   "outputs": [
    {
     "data": {
      "image/png": "[encoded data removed]",
      "text/plain": [
       "<Figure size 432x288 with 1 Axes>"
      ]
     },
     "metadata": {},
     "output_type": "display_data"
    }
   ],
   "source": [
    "for i in range(5):\n",
    "    plt.hist(base_forecasts[i].rvs(100000), bins = 100, density = True);"
   ]
  },
  {
   "cell_type": "code",
   "execution_count": 15,
   "metadata": {},
   "outputs": [],
   "source": [
    "model_2 = gp.Model()\n",
    "\n",
    "market_2 = FirstStageMarket(agents= agents,\n",
    "                            model = model_2,\n",
    "                            price_da_buy = price_da_buy,\n",
    "                            price_da_sell = price_da_sell,\n",
    "                            price_rt_buy = price_rt_buy,\n",
    "                            price_rt_sell = price_rt_sell)"
   ]
  },
  {
   "cell_type": "code",
   "execution_count": 16,
   "metadata": {},
   "outputs": [],
   "source": [
    "market_2.build_model()"
   ]
  },
  {
   "cell_type": "code",
   "execution_count": 17,
   "metadata": {},
   "outputs": [
    {
     "name": "stdout",
     "output_type": "stream",
     "text": [
      "Gurobi Optimizer version 9.5.0 build v9.5.0rc5 (mac64[arm])\n",
      "Thread count: 8 physical cores, 8 logical processors, using up to 8 threads\n",
      "Optimize a model with 498 rows, 981 columns and 2430 nonzeros\n",
      "Model fingerprint: 0x8fa4e06c\n",
      "Coefficient statistics:\n",
      "  Matrix range     [1e+00, 1e+00]\n",
      "  Objective range  [1e-05, 3e+00]\n",
      "  Bounds range     [1e+01, 1e+01]\n",
      "  RHS range        [5e-03, 1e+01]\n",
      "Presolve removed 20 rows and 10 columns\n",
      "Presolve time: 0.01s\n",
      "Presolved: 478 rows, 971 columns, 2390 nonzeros\n",
      "\n",
      "Iteration    Objective       Primal Inf.    Dual Inf.      Time\n",
      "       0      handle free variables                          0s\n",
      "     700    8.1144484e+01   0.000000e+00   0.000000e+00      0s\n",
      "\n",
      "Solved in 700 iterations and 0.01 seconds (0.01 work units)\n",
      "Optimal objective  8.114448406e+01\n"
     ]
    }
   ],
   "source": [
    "model_2.optimize()"
   ]
  },
  {
   "cell_type": "code",
   "execution_count": 18,
   "metadata": {},
   "outputs": [
    {
     "data": {
      "text/plain": [
       "([0.43072624428751816,\n",
       "  -0.6557063231542655,\n",
       "  -1.6503784684784577,\n",
       "  -0.5890611495518039,\n",
       "  0.3786548155758478],\n",
       " [1.7229049771500726,\n",
       "  -0.6557063231542655,\n",
       "  67.60691617548503,\n",
       "  -0.5890611495518039,\n",
       "  1.5146192623033912])"
      ]
     },
     "execution_count": 18,
     "metadata": {},
     "output_type": "execute_result"
    }
   ],
   "source": [
    "second_stage_resolution(model_2, agents, actual_generations)"
   ]
  },
  {
   "cell_type": "code",
   "execution_count": 19,
   "metadata": {},
   "outputs": [
    {
     "data": {
      "text/plain": [
       "69.59967294223242"
      ]
     },
     "execution_count": 19,
     "metadata": {},
     "output_type": "execute_result"
    }
   ],
   "source": [
    "sum(second_stage_resolution(model_2, agents, actual_generations)[1])"
   ]
  },
  {
   "cell_type": "code",
   "execution_count": 20,
   "metadata": {},
   "outputs": [],
   "source": [
    "#model_3\n",
    "actual_generations = [3, 4, 5, 4, 3]\n",
    "demand = [6, 7, 8, 9, 10]\n",
    "\n",
    "price_da_buy = 3\n",
    "price_da_sell = 2\n",
    "price_rt_buy = 4\n",
    "price_rt_sell = 1\n",
    "\n",
    "base_forecasts = [stats.norm(loc = generation, scale = 0.2) for generation in actual_generations]\n",
    "\n",
    "agents_forecasts = []\n",
    "for base_forecast in base_forecasts:\n",
    "    probas, values = np.histogram(base_forecast.rvs(100000), bins = 100, density = True)\n",
    "    probas = probas / probas.sum()\n",
    "    agents_forecasts.append((probas, values))\n",
    "\n",
    "agents = []\n",
    "for id, actual_generation in enumerate(actual_generations):\n",
    "    agent = Agents(id = id,\n",
    "                probabilities = agents_forecasts[id][0],\n",
    "                generation_values = agents_forecasts[id][1],\n",
    "                demand = demand[id],\n",
    "                connections = connection_matrix[id],\n",
    "                kappa = kappa[id])\n",
    "\n",
    "    agents.append(agent)"
   ]
  },
  {
   "cell_type": "code",
   "execution_count": 21,
   "metadata": {},
   "outputs": [
    {
     "data": {
      "image/png": "[encoded data removed]",
      "text/plain": [
       "<Figure size 432x288 with 1 Axes>"
      ]
     },
     "metadata": {},
     "output_type": "display_data"
    }
   ],
   "source": [
    "for i in range(5):\n",
    "    plt.hist(base_forecasts[i].rvs(100000), bins = 100, density = True);"
   ]
  },
  {
   "cell_type": "code",
   "execution_count": 22,
   "metadata": {},
   "outputs": [],
   "source": [
    "model_3 = gp.Model()\n",
    "\n",
    "market_3 = FirstStageMarket(agents= agents,\n",
    "                            model = model_3,\n",
    "                            price_da_buy = price_da_buy,\n",
    "                            price_da_sell = price_da_sell,\n",
    "                            price_rt_buy = price_rt_buy,\n",
    "                            price_rt_sell = price_rt_sell)"
   ]
  },
  {
   "cell_type": "code",
   "execution_count": 23,
   "metadata": {},
   "outputs": [
    {
     "name": "stdout",
     "output_type": "stream",
     "text": [
      "Gurobi Optimizer version 9.5.0 build v9.5.0rc5 (mac64[arm])\n",
      "Thread count: 8 physical cores, 8 logical processors, using up to 8 threads\n",
      "Optimize a model with 511 rows, 1007 columns and 2495 nonzeros\n",
      "Model fingerprint: 0x11df00f3\n",
      "Coefficient statistics:\n",
      "  Matrix range     [1e+00, 1e+00]\n",
      "  Objective range  [1e-05, 3e+00]\n",
      "  Bounds range     [1e+01, 1e+01]\n",
      "  RHS range        [2e+00, 8e+00]\n",
      "Presolve removed 20 rows and 10 columns\n",
      "Presolve time: 0.00s\n",
      "Presolved: 491 rows, 997 columns, 2455 nonzeros\n",
      "\n",
      "Iteration    Objective       Primal Inf.    Dual Inf.      Time\n",
      "       0      handle free variables                          0s\n",
      "     724    7.6216201e+01   0.000000e+00   0.000000e+00      0s\n",
      "\n",
      "Solved in 724 iterations and 0.01 seconds (0.01 work units)\n",
      "Optimal objective  7.621620126e+01\n"
     ]
    }
   ],
   "source": [
    "market_3.build_model()\n",
    "model_3.optimize()"
   ]
  },
  {
   "cell_type": "code",
   "execution_count": 24,
   "metadata": {},
   "outputs": [
    {
     "data": {
      "text/plain": [
       "([0.08541632696667456,\n",
       "  -0.9140666539340994,\n",
       "  -1.9131064893023595,\n",
       "  -0.9237463996397359,\n",
       "  0.06931689278571262],\n",
       " [0.34166530786669824,\n",
       "  -0.9140666539340994,\n",
       "  -1.9131064893023595,\n",
       "  72.86481256973168,\n",
       "  0.2772675711428505])"
      ]
     },
     "execution_count": 24,
     "metadata": {},
     "output_type": "execute_result"
    }
   ],
   "source": [
    "second_stage_resolution(model_3, agents, actual_generations)"
   ]
  },
  {
   "cell_type": "code",
   "execution_count": 25,
   "metadata": {},
   "outputs": [
    {
     "data": {
      "text/plain": [
       "70.65657230550477"
      ]
     },
     "execution_count": 25,
     "metadata": {},
     "output_type": "execute_result"
    }
   ],
   "source": [
    "sum(second_stage_resolution(model_3, agents, actual_generations)[1])"
   ]
  },
  {
   "cell_type": "code",
   "execution_count": 53,
   "metadata": {},
   "outputs": [],
   "source": [
    "#model_4\n",
    "actual_generations = [3, 4, 5, 4, 3]\n",
    "demand = [6, 7, 8, 9, 10]\n",
    "\n",
    "price_da_buy = 3\n",
    "price_da_sell = 2\n",
    "price_rt_buy = 4\n",
    "price_rt_sell = 1\n",
    "\n",
    "base_forecasts = [stats.norm(loc = generation, scale = 0.0) for generation in actual_generations]\n",
    "\n",
    "agents_forecasts = []\n",
    "for base_forecast in base_forecasts:\n",
    "    probas, values = np.histogram(base_forecast.rvs(100000), bins = 100, density = True)\n",
    "    probas = probas / probas.sum()\n",
    "    agents_forecasts.append((probas, values))\n",
    "\n",
    "agents = []\n",
    "for id, actual_generation in enumerate(actual_generations):\n",
    "    agent = Agents(id = id,\n",
    "                probabilities = agents_forecasts[id][0],\n",
    "                generation_values = agents_forecasts[id][1],\n",
    "                demand = demand[id],\n",
    "                connections = connection_matrix[id],\n",
    "                kappa = kappa[id])\n",
    "\n",
    "    agents.append(agent)"
   ]
  },
  {
   "cell_type": "code",
   "execution_count": 54,
   "metadata": {},
   "outputs": [
    {
     "data": {
      "image/png": "[encoded data removed]",
      "text/plain": [
       "<Figure size 432x288 with 1 Axes>"
      ]
     },
     "metadata": {},
     "output_type": "display_data"
    }
   ],
   "source": [
    "for i in range(5):\n",
    "    plt.hist(base_forecasts[i].rvs(100000), bins = 100, density = True);"
   ]
  },
  {
   "cell_type": "code",
   "execution_count": 27,
   "metadata": {},
   "outputs": [
    {
     "name": "stdout",
     "output_type": "stream",
     "text": [
      "Gurobi Optimizer version 9.5.0 build v9.5.0rc5 (mac64[arm])\n",
      "Thread count: 8 physical cores, 8 logical processors, using up to 8 threads\n",
      "Optimize a model with 30 rows, 45 columns and 90 nonzeros\n",
      "Model fingerprint: 0x4464a208\n",
      "Coefficient statistics:\n",
      "  Matrix range     [1e+00, 1e+00]\n",
      "  Objective range  [1e+00, 4e+00]\n",
      "  Bounds range     [1e+01, 1e+01]\n",
      "  RHS range        [3e+00, 7e+00]\n",
      "Presolve removed 25 rows and 20 columns\n",
      "Presolve time: 0.00s\n",
      "Presolved: 5 rows, 25 columns, 35 nonzeros\n",
      "\n",
      "Iteration    Objective       Primal Inf.    Dual Inf.      Time\n",
      "       0   -1.5000000e+02   4.050000e+01   0.000000e+00      0s\n",
      "       4    7.5000000e+01   0.000000e+00   0.000000e+00      0s\n",
      "\n",
      "Solved in 4 iterations and 0.00 seconds (0.00 work units)\n",
      "Optimal objective  7.500000000e+01\n"
     ]
    }
   ],
   "source": [
    "model_4 = gp.Model()\n",
    "\n",
    "market_4 = FirstStageMarket(agents= agents,\n",
    "                            model = model_4,\n",
    "                            price_da_buy = price_da_buy,\n",
    "                            price_da_sell = price_da_sell,\n",
    "                            price_rt_buy = price_rt_buy,\n",
    "                            price_rt_sell = price_rt_sell)\n",
    "\n",
    "market_4.build_model()\n",
    "model_4.optimize()                            "
   ]
  },
  {
   "cell_type": "code",
   "execution_count": 28,
   "metadata": {},
   "outputs": [
    {
     "data": {
      "text/plain": [
       "([0.0, -1.0, -2.0, -1.0, 0.0], [75.0, -1.0, -2.0, -1.0, 0.0])"
      ]
     },
     "execution_count": 28,
     "metadata": {},
     "output_type": "execute_result"
    }
   ],
   "source": [
    "second_stage_resolution(model_4, agents, actual_generations)"
   ]
  },
  {
   "cell_type": "code",
   "execution_count": 29,
   "metadata": {},
   "outputs": [
    {
     "data": {
      "text/plain": [
       "71.0"
      ]
     },
     "execution_count": 29,
     "metadata": {},
     "output_type": "execute_result"
    }
   ],
   "source": [
    "sum(second_stage_resolution(model_4, agents, actual_generations)[1])"
   ]
  },
  {
   "cell_type": "code",
   "execution_count": 30,
   "metadata": {},
   "outputs": [
    {
     "name": "stdout",
     "output_type": "stream",
     "text": [
      "Model_1 net trades: [2.2543478950893174, 3.2748412139821976, 4.288664315180641, -16.01242346532948, 6.1945700410773235]\n",
      "Model_2 net trades: [2.569273755712482, 3.6557063231542655, -18.435386412842703, 5.589061149551804, 6.621345184424152]\n",
      "Model_3 net trades: [2.9145836730333254, 3.9140666539340994, 4.9131064893023595, -18.67243992348407, 6.930683107214287]\n",
      "Model_4 net trades: [-22.0, 4.0, 5.0, 6.0, 7.0]\n"
     ]
    }
   ],
   "source": [
    "print('Model_1 net trades:', [model_1.getVarByName(f'Agent {id} net trading').X for id, _ in enumerate(agents)])\n",
    "print('Model_2 net trades:', [model_2.getVarByName(f'Agent {id} net trading').X for id, _ in enumerate(agents)])\n",
    "print('Model_3 net trades:', [model_3.getVarByName(f'Agent {id} net trading').X for id, _ in enumerate(agents)])\n",
    "print('Model_4 net trades:', [model_4.getVarByName(f'Agent {id} net trading').X for id, _ in enumerate(agents)])"
   ]
  },
  {
   "cell_type": "code",
   "execution_count": 31,
   "metadata": {},
   "outputs": [],
   "source": [
    "duals = model_1.getAttr('Pi')"
   ]
  },
  {
   "cell_type": "code",
   "execution_count": 32,
   "metadata": {},
   "outputs": [],
   "source": [
    "const_names = model_1.getConstrs()"
   ]
  },
  {
   "cell_type": "code",
   "execution_count": 33,
   "metadata": {},
   "outputs": [
    {
     "name": "stdout",
     "output_type": "stream",
     "text": [
      "(<gurobi.Constr Bilateral trading for pair (0, 1)>, 0.0)\n",
      "(<gurobi.Constr Bilateral trading for pair (0, 2)>, 0.0)\n",
      "(<gurobi.Constr Bilateral trading for pair (0, 3)>, 0.0)\n",
      "(<gurobi.Constr Bilateral trading for pair (0, 4)>, 0.0)\n",
      "(<gurobi.Constr Bilateral trading for pair (1, 0)>, -3.0000000000000018)\n",
      "(<gurobi.Constr Bilateral trading for pair (1, 2)>, -3.0000000000000018)\n",
      "(<gurobi.Constr Bilateral trading for pair (1, 3)>, -3.0000000000000018)\n",
      "(<gurobi.Constr Bilateral trading for pair (1, 4)>, 0.0)\n",
      "(<gurobi.Constr Bilateral trading for pair (2, 0)>, -3.0000000000000018)\n",
      "(<gurobi.Constr Bilateral trading for pair (2, 1)>, 0.0)\n",
      "(<gurobi.Constr Bilateral trading for pair (2, 3)>, 0.0)\n",
      "(<gurobi.Constr Bilateral trading for pair (2, 4)>, 0.0)\n",
      "(<gurobi.Constr Bilateral trading for pair (3, 0)>, -3.0000000000000018)\n",
      "(<gurobi.Constr Bilateral trading for pair (3, 1)>, 0.0)\n",
      "(<gurobi.Constr Bilateral trading for pair (3, 2)>, -3.0000000000000018)\n",
      "(<gurobi.Constr Bilateral trading for pair (3, 4)>, 0.0)\n",
      "(<gurobi.Constr Bilateral trading for pair (4, 0)>, -3.0000000000000018)\n",
      "(<gurobi.Constr Bilateral trading for pair (4, 1)>, -3.0000000000000018)\n",
      "(<gurobi.Constr Bilateral trading for pair (4, 2)>, -3.0000000000000018)\n",
      "(<gurobi.Constr Bilateral trading for pair (4, 3)>, -3.0000000000000018)\n"
     ]
    }
   ],
   "source": [
    "for x in zip(const_names, duals):\n",
    "    if str(x[0]) in [f'<gurobi.Constr Bilateral trading for pair ({a}, {b})>' for a in range(5) for b in range(5)]:\n",
    "        print(x)"
   ]
  },
  {
   "cell_type": "code",
   "execution_count": 34,
   "metadata": {},
   "outputs": [],
   "source": [
    "def trading_costs(agents, model):\n",
    "    res = []\n",
    "    duals = model.getAttr('Pi')\n",
    "    const_names = model.getConstrs()\n",
    "\n",
    "    for agent in agents:\n",
    "        agent_trading_cost = 0\n",
    "        for x in zip(const_names, duals):\n",
    "            for agent_2 in agents:\n",
    "                if str(x[0]) == f'<gurobi.Constr Bilateral trading for pair ({agent.id}, {agent_2.id})>':\n",
    "                    #print(f'q_{agent.id}_{agent_2.id}:', x[1], model.getVarByName(f'q_{agent.id}_{agent_2.id}').X)\n",
    "                    agent_trading_cost += abs(x[1]) * abs(model.getVarByName(f'q_{agent.id}_{agent_2.id}').X)\n",
    "\n",
    "        res.append(agent_trading_cost)\n",
    "\n",
    "    return res"
   ]
  },
  {
   "cell_type": "code",
   "execution_count": 35,
   "metadata": {},
   "outputs": [
    {
     "data": {
      "text/plain": [
       "299.41082504011666"
      ]
     },
     "execution_count": 35,
     "metadata": {},
     "output_type": "execute_result"
    }
   ],
   "source": [
    "sum(np.array(trading_costs(agents, model_1)) + np.array(second_stage_resolution(model_1, agents, actual_generations)[1]))"
   ]
  },
  {
   "cell_type": "code",
   "execution_count": 36,
   "metadata": {},
   "outputs": [
    {
     "data": {
      "text/plain": [
       "306.50282083761533"
      ]
     },
     "execution_count": 36,
     "metadata": {},
     "output_type": "execute_result"
    }
   ],
   "source": [
    "sum(np.array(trading_costs(agents, model_2)) + np.array(second_stage_resolution(model_2, agents, actual_generations)[1]))"
   ]
  },
  {
   "cell_type": "code",
   "execution_count": 37,
   "metadata": {},
   "outputs": [
    {
     "data": {
      "text/plain": [
       "304.66100385669756"
      ]
     },
     "execution_count": 37,
     "metadata": {},
     "output_type": "execute_result"
    }
   ],
   "source": [
    "sum(np.array(trading_costs(agents, model_3)) + np.array(second_stage_resolution(model_3, agents, actual_generations)[1]))"
   ]
  },
  {
   "cell_type": "code",
   "execution_count": 38,
   "metadata": {},
   "outputs": [
    {
     "data": {
      "text/plain": [
       "284.0"
      ]
     },
     "execution_count": 38,
     "metadata": {},
     "output_type": "execute_result"
    }
   ],
   "source": [
    "sum(np.array(trading_costs(agents, model_4)) + np.array(second_stage_resolution(model_4, agents, actual_generations)[1]))"
   ]
  },
  {
   "cell_type": "code",
   "execution_count": 39,
   "metadata": {},
   "outputs": [
    {
     "data": {
      "text/plain": [
       "[<gurobi.Var Agent 0 day-ahead purchase (value 25.0)>,\n",
       " <gurobi.Var Agent 0 day-ahead sale (value 0.0)>,\n",
       " <gurobi.Var Agent 0 proba 50 real-time purchase (value 0.0)>,\n",
       " <gurobi.Var Agent 0 proba 50 real-time sale (value 0.0)>,\n",
       " <gurobi.Var q_0_1 (value -10.0)>,\n",
       " <gurobi.Var q_0_2 (value -2.0)>,\n",
       " <gurobi.Var q_0_3 (value 0.0)>,\n",
       " <gurobi.Var q_0_4 (value -10.0)>,\n",
       " <gurobi.Var Agent 0 net trading (value -22.0)>,\n",
       " <gurobi.Var Agent 1 day-ahead purchase (value 0.0)>,\n",
       " <gurobi.Var Agent 1 day-ahead sale (value 0.0)>,\n",
       " <gurobi.Var Agent 1 proba 50 real-time purchase (value 0.0)>,\n",
       " <gurobi.Var Agent 1 proba 50 real-time sale (value 0.0)>,\n",
       " <gurobi.Var q_1_0 (value 10.0)>,\n",
       " <gurobi.Var q_1_2 (value 10.0)>,\n",
       " <gurobi.Var q_1_3 (value -6.0)>,\n",
       " <gurobi.Var q_1_4 (value -10.0)>,\n",
       " <gurobi.Var Agent 1 net trading (value 4.0)>,\n",
       " <gurobi.Var Agent 2 day-ahead purchase (value 0.0)>,\n",
       " <gurobi.Var Agent 2 day-ahead sale (value 0.0)>,\n",
       " <gurobi.Var Agent 2 proba 50 real-time purchase (value 0.0)>,\n",
       " <gurobi.Var Agent 2 proba 50 real-time sale (value 0.0)>,\n",
       " <gurobi.Var q_2_0 (value 2.0)>,\n",
       " <gurobi.Var q_2_1 (value -10.0)>,\n",
       " <gurobi.Var q_2_3 (value 10.0)>,\n",
       " <gurobi.Var q_2_4 (value 3.0)>,\n",
       " <gurobi.Var Agent 2 net trading (value 5.0)>,\n",
       " <gurobi.Var Agent 3 day-ahead purchase (value 0.0)>,\n",
       " <gurobi.Var Agent 3 day-ahead sale (value 0.0)>,\n",
       " <gurobi.Var Agent 3 proba 50 real-time purchase (value 0.0)>,\n",
       " <gurobi.Var Agent 3 proba 50 real-time sale (value 0.0)>,\n",
       " <gurobi.Var q_3_0 (value 0.0)>,\n",
       " <gurobi.Var q_3_1 (value 6.0)>,\n",
       " <gurobi.Var q_3_2 (value -10.0)>,\n",
       " <gurobi.Var q_3_4 (value 10.0)>,\n",
       " <gurobi.Var Agent 3 net trading (value 6.0)>,\n",
       " <gurobi.Var Agent 4 day-ahead purchase (value 0.0)>,\n",
       " <gurobi.Var Agent 4 day-ahead sale (value 0.0)>,\n",
       " <gurobi.Var Agent 4 proba 50 real-time purchase (value 0.0)>,\n",
       " <gurobi.Var Agent 4 proba 50 real-time sale (value 0.0)>,\n",
       " <gurobi.Var q_4_0 (value 10.0)>,\n",
       " <gurobi.Var q_4_1 (value 10.0)>,\n",
       " <gurobi.Var q_4_2 (value -3.0)>,\n",
       " <gurobi.Var q_4_3 (value -10.0)>,\n",
       " <gurobi.Var Agent 4 net trading (value 7.0)>]"
      ]
     },
     "execution_count": 39,
     "metadata": {},
     "output_type": "execute_result"
    }
   ],
   "source": [
    "model_4.getVars()"
   ]
  },
  {
   "cell_type": "code",
   "execution_count": 40,
   "metadata": {},
   "outputs": [
    {
     "data": {
      "text/plain": [
       "<gurobi.LinExpr: 3.0 Agent 0 day-ahead purchase + -2.0 Agent 0 day-ahead sale + 4.0 Agent 0 proba 50 real-time purchase + -1.0 Agent 0 proba 50 real-time sale + 3.0 Agent 1 day-ahead purchase + -2.0 Agent 1 day-ahead sale + 4.0 Agent 1 proba 50 real-time purchase + -1.0 Agent 1 proba 50 real-time sale + 3.0 Agent 2 day-ahead purchase + -2.0 Agent 2 day-ahead sale + 4.0 Agent 2 proba 50 real-time purchase + -1.0 Agent 2 proba 50 real-time sale + 3.0 Agent 3 day-ahead purchase + -2.0 Agent 3 day-ahead sale + 4.0 Agent 3 proba 50 real-time purchase + -1.0 Agent 3 proba 50 real-time sale + 3.0 Agent 4 day-ahead purchase + -2.0 Agent 4 day-ahead sale + 4.0 Agent 4 proba 50 real-time purchase + -1.0 Agent 4 proba 50 real-time sale>"
      ]
     },
     "execution_count": 40,
     "metadata": {},
     "output_type": "execute_result"
    }
   ],
   "source": [
    "model_4.getObjective()"
   ]
  },
  {
   "cell_type": "code",
   "execution_count": 41,
   "metadata": {},
   "outputs": [
    {
     "name": "stdout",
     "output_type": "stream",
     "text": [
      "Minimize\n",
      "<gurobi.LinExpr: 3.0 Agent 0 day-ahead purchase + -2.0 Agent 0 day-ahead sale\n",
      "+ 4.0 Agent 0 proba 50 real-time purchase + -1.0 Agent 0 proba 50 real-time sale\n",
      "+ 3.0 Agent 1 day-ahead purchase + -2.0 Agent 1 day-ahead sale\n",
      "+ 4.0 Agent 1 proba 50 real-time purchase + -1.0 Agent 1 proba 50 real-time sale\n",
      "+ 3.0 Agent 2 day-ahead purchase + -2.0 Agent 2 day-ahead sale\n",
      "+ 4.0 Agent 2 proba 50 real-time purchase + -1.0 Agent 2 proba 50 real-time sale\n",
      "+ 3.0 Agent 3 day-ahead purchase + -2.0 Agent 3 day-ahead sale\n",
      "+ 4.0 Agent 3 proba 50 real-time purchase + -1.0 Agent 3 proba 50 real-time sale\n",
      "+ 3.0 Agent 4 day-ahead purchase + -2.0 Agent 4 day-ahead sale\n",
      "+ 4.0 Agent 4 proba 50 real-time purchase + -1.0 Agent 4 proba 50 real-time sale>\n",
      "Subject To\n",
      "Net trading constraint: <gurobi.LinExpr: -1.0 q_0_1 + -1.0 q_0_2 + -1.0 q_0_3 + -1.0\n",
      " q_0_4 + Agent 0 net trading> = 0\n",
      "SD balance for agent 0 proba 50: <gurobi.LinExpr: -1.0 Agent 0 day-ahead purchase +\n",
      "Agent 0 day-ahead sale + -1.0 Agent 0 proba 50 real-time purchase + Agent 0 proba 50\n",
      " real-time sale + -1.0 Agent 0 net trading> = -3\n",
      "  Bilateral trading for pair (0, 1): <gurobi.LinExpr: q_0_1 + q_1_0> = 0\n",
      "  Bilateral trading for pair (0, 2): <gurobi.LinExpr: q_0_2 + q_2_0> = 0\n",
      "  Bilateral trading for pair (0, 3): <gurobi.LinExpr: q_0_3 + q_3_0> = 0\n",
      "  Bilateral trading for pair (0, 4): <gurobi.LinExpr: q_0_4 + q_4_0> = 0\n",
      "Net trading constraint: <gurobi.LinExpr: -1.0 q_1_0 + -1.0 q_1_2 + -1.0 q_1_3 + -1.0\n",
      " q_1_4 + Agent 1 net trading> = 0\n",
      "SD balance for agent 1 proba 50: <gurobi.LinExpr: -1.0 Agent 1 day-ahead purchase +\n",
      "Agent 1 day-ahead sale + -1.0 Agent 1 proba 50 real-time purchase + Agent 1 proba 50\n",
      " real-time sale + -1.0 Agent 1 net trading> = -4\n",
      "  Bilateral trading for pair (1, 0): <gurobi.LinExpr: q_0_1 + q_1_0> = 0\n",
      "  Bilateral trading for pair (1, 2): <gurobi.LinExpr: q_1_2 + q_2_1> = 0\n",
      "  Bilateral trading for pair (1, 3): <gurobi.LinExpr: q_1_3 + q_3_1> = 0\n",
      "  Bilateral trading for pair (1, 4): <gurobi.LinExpr: q_1_4 + q_4_1> = 0\n",
      "Net trading constraint: <gurobi.LinExpr: -1.0 q_2_0 + -1.0 q_2_1 + -1.0 q_2_3 + -1.0\n",
      " q_2_4 + Agent 2 net trading> = 0\n",
      "SD balance for agent 2 proba 50: <gurobi.LinExpr: -1.0 Agent 2 day-ahead purchase +\n",
      "Agent 2 day-ahead sale + -1.0 Agent 2 proba 50 real-time purchase + Agent 2 proba 50\n",
      " real-time sale + -1.0 Agent 2 net trading> = -5\n",
      "  Bilateral trading for pair (2, 0): <gurobi.LinExpr: q_0_2 + q_2_0> = 0\n",
      "  Bilateral trading for pair (2, 1): <gurobi.LinExpr: q_1_2 + q_2_1> = 0\n",
      "  Bilateral trading for pair (2, 3): <gurobi.LinExpr: q_2_3 + q_3_2> = 0\n",
      "  Bilateral trading for pair (2, 4): <gurobi.LinExpr: q_2_4 + q_4_2> = 0\n",
      "Net trading constraint: <gurobi.LinExpr: -1.0 q_3_0 + -1.0 q_3_1 + -1.0 q_3_2 + -1.0\n",
      " q_3_4 + Agent 3 net trading> = 0\n",
      "SD balance for agent 3 proba 50: <gurobi.LinExpr: -1.0 Agent 3 day-ahead purchase +\n",
      "Agent 3 day-ahead sale + -1.0 Agent 3 proba 50 real-time purchase + Agent 3 proba 50\n",
      " real-time sale + -1.0 Agent 3 net trading> = -6\n",
      "  Bilateral trading for pair (3, 0): <gurobi.LinExpr: q_0_3 + q_3_0> = 0\n",
      "  Bilateral trading for pair (3, 1): <gurobi.LinExpr: q_1_3 + q_3_1> = 0\n",
      "  Bilateral trading for pair (3, 2): <gurobi.LinExpr: q_2_3 + q_3_2> = 0\n",
      "  Bilateral trading for pair (3, 4): <gurobi.LinExpr: q_3_4 + q_4_3> = 0\n",
      "Net trading constraint: <gurobi.LinExpr: -1.0 q_4_0 + -1.0 q_4_1 + -1.0 q_4_2 + -1.0\n",
      " q_4_3 + Agent 4 net trading> = 0\n",
      "SD balance for agent 4 proba 50: <gurobi.LinExpr: -1.0 Agent 4 day-ahead purchase +\n",
      "Agent 4 day-ahead sale + -1.0 Agent 4 proba 50 real-time purchase + Agent 4 proba 50\n",
      " real-time sale + -1.0 Agent 4 net trading> = -7\n",
      "  Bilateral trading for pair (4, 0): <gurobi.LinExpr: q_0_4 + q_4_0> = 0\n",
      "  Bilateral trading for pair (4, 1): <gurobi.LinExpr: q_1_4 + q_4_1> = 0\n",
      "  Bilateral trading for pair (4, 2): <gurobi.LinExpr: q_2_4 + q_4_2> = 0\n",
      "  Bilateral trading for pair (4, 3): <gurobi.LinExpr: q_3_4 + q_4_3> = 0\n",
      "Bounds\n",
      "  0 <= Agent 0 day-ahead sale <= 10\n",
      "  0 <= Agent 0 proba 50 real-time sale <= 10\n",
      "  -10 <= q_0_1 <= 10\n",
      "  -10 <= q_0_2 <= 10\n",
      "  -10 <= q_0_3 <= 10\n",
      "  -10 <= q_0_4 <= 10\n",
      "  Agent 0 net trading free\n",
      "  0 <= Agent 1 day-ahead sale <= 10\n",
      "  0 <= Agent 1 proba 50 real-time sale <= 10\n",
      "  -10 <= q_1_0 <= 10\n",
      "  -10 <= q_1_2 <= 10\n",
      "  -10 <= q_1_3 <= 10\n",
      "  -10 <= q_1_4 <= 10\n",
      "  Agent 1 net trading free\n",
      "  0 <= Agent 2 day-ahead sale <= 10\n",
      "  0 <= Agent 2 proba 50 real-time sale <= 10\n",
      "  -10 <= q_2_0 <= 10\n",
      "  -10 <= q_2_1 <= 10\n",
      "  -10 <= q_2_3 <= 10\n",
      "  -10 <= q_2_4 <= 10\n",
      "  Agent 2 net trading free\n",
      "  0 <= Agent 3 day-ahead sale <= 10\n",
      "  0 <= Agent 3 proba 50 real-time sale <= 10\n",
      "  -10 <= q_3_0 <= 10\n",
      "  -10 <= q_3_1 <= 10\n",
      "  -10 <= q_3_2 <= 10\n",
      "  -10 <= q_3_4 <= 10\n",
      "  Agent 3 net trading free\n",
      "  0 <= Agent 4 day-ahead sale <= 10\n",
      "  0 <= Agent 4 proba 50 real-time sale <= 10\n",
      "  -10 <= q_4_0 <= 10\n",
      "  -10 <= q_4_1 <= 10\n",
      "  -10 <= q_4_2 <= 10\n",
      "  -10 <= q_4_3 <= 10\n",
      "  Agent 4 net trading free\n"
     ]
    }
   ],
   "source": [
    "model_4.display()"
   ]
  },
  {
   "cell_type": "code",
   "execution_count": 42,
   "metadata": {},
   "outputs": [
    {
     "data": {
      "text/plain": [
       "[<gurobi.Var Agent 0 day-ahead purchase (value 25.0)>,\n",
       " <gurobi.Var Agent 0 day-ahead sale (value 0.0)>,\n",
       " <gurobi.Var Agent 0 proba 50 real-time purchase (value 0.0)>,\n",
       " <gurobi.Var Agent 0 proba 50 real-time sale (value 0.0)>,\n",
       " <gurobi.Var q_0_1 (value -10.0)>,\n",
       " <gurobi.Var q_0_2 (value -2.0)>,\n",
       " <gurobi.Var q_0_3 (value 0.0)>,\n",
       " <gurobi.Var q_0_4 (value -10.0)>,\n",
       " <gurobi.Var Agent 0 net trading (value -22.0)>,\n",
       " <gurobi.Var Agent 1 day-ahead purchase (value 0.0)>,\n",
       " <gurobi.Var Agent 1 day-ahead sale (value 0.0)>,\n",
       " <gurobi.Var Agent 1 proba 50 real-time purchase (value 0.0)>,\n",
       " <gurobi.Var Agent 1 proba 50 real-time sale (value 0.0)>,\n",
       " <gurobi.Var q_1_0 (value 10.0)>,\n",
       " <gurobi.Var q_1_2 (value 10.0)>,\n",
       " <gurobi.Var q_1_3 (value -6.0)>,\n",
       " <gurobi.Var q_1_4 (value -10.0)>,\n",
       " <gurobi.Var Agent 1 net trading (value 4.0)>,\n",
       " <gurobi.Var Agent 2 day-ahead purchase (value 0.0)>,\n",
       " <gurobi.Var Agent 2 day-ahead sale (value 0.0)>,\n",
       " <gurobi.Var Agent 2 proba 50 real-time purchase (value 0.0)>,\n",
       " <gurobi.Var Agent 2 proba 50 real-time sale (value 0.0)>,\n",
       " <gurobi.Var q_2_0 (value 2.0)>,\n",
       " <gurobi.Var q_2_1 (value -10.0)>,\n",
       " <gurobi.Var q_2_3 (value 10.0)>,\n",
       " <gurobi.Var q_2_4 (value 3.0)>,\n",
       " <gurobi.Var Agent 2 net trading (value 5.0)>,\n",
       " <gurobi.Var Agent 3 day-ahead purchase (value 0.0)>,\n",
       " <gurobi.Var Agent 3 day-ahead sale (value 0.0)>,\n",
       " <gurobi.Var Agent 3 proba 50 real-time purchase (value 0.0)>,\n",
       " <gurobi.Var Agent 3 proba 50 real-time sale (value 0.0)>,\n",
       " <gurobi.Var q_3_0 (value 0.0)>,\n",
       " <gurobi.Var q_3_1 (value 6.0)>,\n",
       " <gurobi.Var q_3_2 (value -10.0)>,\n",
       " <gurobi.Var q_3_4 (value 10.0)>,\n",
       " <gurobi.Var Agent 3 net trading (value 6.0)>,\n",
       " <gurobi.Var Agent 4 day-ahead purchase (value 0.0)>,\n",
       " <gurobi.Var Agent 4 day-ahead sale (value 0.0)>,\n",
       " <gurobi.Var Agent 4 proba 50 real-time purchase (value 0.0)>,\n",
       " <gurobi.Var Agent 4 proba 50 real-time sale (value 0.0)>,\n",
       " <gurobi.Var q_4_0 (value 10.0)>,\n",
       " <gurobi.Var q_4_1 (value 10.0)>,\n",
       " <gurobi.Var q_4_2 (value -3.0)>,\n",
       " <gurobi.Var q_4_3 (value -10.0)>,\n",
       " <gurobi.Var Agent 4 net trading (value 7.0)>]"
      ]
     },
     "execution_count": 42,
     "metadata": {},
     "output_type": "execute_result"
    }
   ],
   "source": [
    "model_4.getVars()"
   ]
  },
  {
   "cell_type": "code",
   "execution_count": 49,
   "metadata": {},
   "outputs": [
    {
     "data": {
      "text/plain": [
       "3.0"
      ]
     },
     "execution_count": 49,
     "metadata": {},
     "output_type": "execute_result"
    }
   ],
   "source": [
    "agents[1].generation[50]"
   ]
  },
  {
   "cell_type": "code",
   "execution_count": 50,
   "metadata": {},
   "outputs": [
    {
     "data": {
      "text/plain": [
       "array([2.5 , 2.51, 2.52, 2.53, 2.54, 2.55, 2.56, 2.57, 2.58, 2.59, 2.6 ,\n",
       "       2.61, 2.62, 2.63, 2.64, 2.65, 2.66, 2.67, 2.68, 2.69, 2.7 , 2.71,\n",
       "       2.72, 2.73, 2.74, 2.75, 2.76, 2.77, 2.78, 2.79, 2.8 , 2.81, 2.82,\n",
       "       2.83, 2.84, 2.85, 2.86, 2.87, 2.88, 2.89, 2.9 , 2.91, 2.92, 2.93,\n",
       "       2.94, 2.95, 2.96, 2.97, 2.98, 2.99, 3.  , 3.01, 3.02, 3.03, 3.04,\n",
       "       3.05, 3.06, 3.07, 3.08, 3.09, 3.1 , 3.11, 3.12, 3.13, 3.14, 3.15,\n",
       "       3.16, 3.17, 3.18, 3.19, 3.2 , 3.21, 3.22, 3.23, 3.24, 3.25, 3.26,\n",
       "       3.27, 3.28, 3.29, 3.3 , 3.31, 3.32, 3.33, 3.34, 3.35, 3.36, 3.37,\n",
       "       3.38, 3.39, 3.4 , 3.41, 3.42, 3.43, 3.44, 3.45, 3.46, 3.47, 3.48,\n",
       "       3.49, 3.5 ])"
      ]
     },
     "execution_count": 50,
     "metadata": {},
     "output_type": "execute_result"
    }
   ],
   "source": [
    "agents[1].generation"
   ]
  },
  {
   "cell_type": "code",
   "execution_count": null,
   "metadata": {},
   "outputs": [],
   "source": []
  }
 ],
 "metadata": {
  "kernelspec": {
   "display_name": "Python 3.9.12 64-bit",
   "language": "python",
   "name": "python3"
  },
  "language_info": {
   "codemirror_mode": {
    "name": "ipython",
    "version": 3
   },
   "file_extension": ".py",
   "mimetype": "text/x-python",
   "name": "python",
   "nbconvert_exporter": "python",
   "pygments_lexer": "ipython3",
   "version": "3.9.12"
  },
  "orig_nbformat": 4,
  "vscode": {
   "interpreter": {
    "hash": "b0fa6594d8f4cbf19f97940f81e996739fb7646882a419484c72d19e05852a7e"
   }
  }
 },
 "nbformat": 4,
 "nbformat_minor": 2
}
