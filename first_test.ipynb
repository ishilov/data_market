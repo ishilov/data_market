{
 "cells": [
  {
   "cell_type": "code",
   "execution_count": 70,
   "metadata": {},
   "outputs": [],
   "source": [
    "import gurobipy as gp\n",
    "import numpy as np\n",
    "import pandas as pd\n",
    "from scipy import stats\n",
    "\n",
    "from gurobi_implementation import GurobiSolution"
   ]
  },
  {
   "cell_type": "code",
   "execution_count": 71,
   "metadata": {},
   "outputs": [],
   "source": [
    "import matplotlib.pyplot as plt\n",
    "\n",
    "import seaborn as sns\n",
    "sns.set()"
   ]
  },
  {
   "cell_type": "code",
   "execution_count": 72,
   "metadata": {},
   "outputs": [],
   "source": [
    "#reading data from csv\n",
    "\n",
    "probabilities = pd.read_csv('df_probabilities_100.csv')\n",
    "probabilities = probabilities['0'].to_list()\n",
    "\n",
    "g_res = pd.read_csv('df_g_res_100.csv')\n",
    "generation = g_res.drop('Unnamed: 0', axis = 1).loc[0].to_list()"
   ]
  },
  {
   "cell_type": "code",
   "execution_count": 73,
   "metadata": {},
   "outputs": [],
   "source": [
    "#setting demand and prices\n",
    "\n",
    "demand = 10\n",
    "p_lt = 1\n",
    "p_rt = 3"
   ]
  },
  {
   "cell_type": "code",
   "execution_count": 74,
   "metadata": {},
   "outputs": [],
   "source": [
    "model = gp.Model()\n",
    "\n",
    "setup = GurobiSolution(model, \n",
    "                        probabilities = probabilities,\n",
    "                        generation = generation)"
   ]
  },
  {
   "cell_type": "code",
   "execution_count": 75,
   "metadata": {},
   "outputs": [],
   "source": [
    "setup.build_centralized_2stage_model(demand=demand,\n",
    "                                        p_lt=p_lt,\n",
    "                                        p_rt = p_rt)"
   ]
  },
  {
   "cell_type": "code",
   "execution_count": 76,
   "metadata": {},
   "outputs": [
    {
     "name": "stdout",
     "output_type": "stream",
     "text": [
      "Gurobi Optimizer version 9.5.0 build v9.5.0rc5 (mac64[arm])\n",
      "Thread count: 8 physical cores, 8 logical processors, using up to 8 threads\n",
      "Optimize a model with 100 rows, 101 columns and 200 nonzeros\n",
      "Model fingerprint: 0xef05579f\n",
      "Coefficient statistics:\n",
      "  Matrix range     [1e+00, 1e+00]\n",
      "  Objective range  [5e-04, 1e+00]\n",
      "  Bounds range     [0e+00, 0e+00]\n",
      "  RHS range        [5e+00, 1e+01]\n",
      "Presolve time: 0.00s\n",
      "Presolved: 100 rows, 101 columns, 200 nonzeros\n",
      "\n",
      "Iteration    Objective       Primal Inf.    Dual Inf.      Time\n",
      "       0    0.0000000e+00   7.255225e+02   0.000000e+00      0s\n",
      "       3    9.9639126e+00   0.000000e+00   0.000000e+00      0s\n",
      "\n",
      "Solved in 3 iterations and 0.00 seconds (0.00 work units)\n",
      "Optimal objective  9.963912561e+00\n"
     ]
    }
   ],
   "source": [
    "model.optimize()"
   ]
  },
  {
   "cell_type": "code",
   "execution_count": 77,
   "metadata": {},
   "outputs": [
    {
     "data": {
      "text/plain": [
       "[<gurobi.Var long term purchase (value 9.8891)>,\n",
       " <gurobi.Var real time purchase[0] (value 0.11090000000000089)>,\n",
       " <gurobi.Var real time purchase[1] (value 0.05545000000000044)>,\n",
       " <gurobi.Var real time purchase[2] (value 0.0)>,\n",
       " <gurobi.Var real time purchase[3] (value 0.0)>,\n",
       " <gurobi.Var real time purchase[4] (value 0.0)>,\n",
       " <gurobi.Var real time purchase[5] (value 0.0)>,\n",
       " <gurobi.Var real time purchase[6] (value 0.0)>,\n",
       " <gurobi.Var real time purchase[7] (value 0.0)>,\n",
       " <gurobi.Var real time purchase[8] (value 0.0)>,\n",
       " <gurobi.Var real time purchase[9] (value 0.0)>,\n",
       " <gurobi.Var real time purchase[10] (value 0.0)>,\n",
       " <gurobi.Var real time purchase[11] (value 0.0)>,\n",
       " <gurobi.Var real time purchase[12] (value 0.0)>,\n",
       " <gurobi.Var real time purchase[13] (value 0.0)>,\n",
       " <gurobi.Var real time purchase[14] (value 0.0)>,\n",
       " <gurobi.Var real time purchase[15] (value 0.0)>,\n",
       " <gurobi.Var real time purchase[16] (value 0.0)>,\n",
       " <gurobi.Var real time purchase[17] (value 0.0)>,\n",
       " <gurobi.Var real time purchase[18] (value 0.0)>,\n",
       " <gurobi.Var real time purchase[19] (value 0.0)>,\n",
       " <gurobi.Var real time purchase[20] (value 0.0)>,\n",
       " <gurobi.Var real time purchase[21] (value 0.0)>,\n",
       " <gurobi.Var real time purchase[22] (value 0.0)>,\n",
       " <gurobi.Var real time purchase[23] (value 0.0)>,\n",
       " <gurobi.Var real time purchase[24] (value 0.0)>,\n",
       " <gurobi.Var real time purchase[25] (value 0.0)>,\n",
       " <gurobi.Var real time purchase[26] (value 0.0)>,\n",
       " <gurobi.Var real time purchase[27] (value 0.0)>,\n",
       " <gurobi.Var real time purchase[28] (value 0.0)>,\n",
       " <gurobi.Var real time purchase[29] (value 0.0)>,\n",
       " <gurobi.Var real time purchase[30] (value 0.0)>,\n",
       " <gurobi.Var real time purchase[31] (value 0.0)>,\n",
       " <gurobi.Var real time purchase[32] (value 0.0)>,\n",
       " <gurobi.Var real time purchase[33] (value 0.0)>,\n",
       " <gurobi.Var real time purchase[34] (value 0.0)>,\n",
       " <gurobi.Var real time purchase[35] (value 0.0)>,\n",
       " <gurobi.Var real time purchase[36] (value 0.0)>,\n",
       " <gurobi.Var real time purchase[37] (value 0.0)>,\n",
       " <gurobi.Var real time purchase[38] (value 0.0)>,\n",
       " <gurobi.Var real time purchase[39] (value 0.0)>,\n",
       " <gurobi.Var real time purchase[40] (value 0.0)>,\n",
       " <gurobi.Var real time purchase[41] (value 0.0)>,\n",
       " <gurobi.Var real time purchase[42] (value 0.0)>,\n",
       " <gurobi.Var real time purchase[43] (value 0.0)>,\n",
       " <gurobi.Var real time purchase[44] (value 0.0)>,\n",
       " <gurobi.Var real time purchase[45] (value 0.0)>,\n",
       " <gurobi.Var real time purchase[46] (value 0.0)>,\n",
       " <gurobi.Var real time purchase[47] (value 0.0)>,\n",
       " <gurobi.Var real time purchase[48] (value 0.0)>,\n",
       " <gurobi.Var real time purchase[49] (value 0.0)>,\n",
       " <gurobi.Var real time purchase[50] (value 0.0)>,\n",
       " <gurobi.Var real time purchase[51] (value 0.0)>,\n",
       " <gurobi.Var real time purchase[52] (value 0.0)>,\n",
       " <gurobi.Var real time purchase[53] (value 0.0)>,\n",
       " <gurobi.Var real time purchase[54] (value 0.0)>,\n",
       " <gurobi.Var real time purchase[55] (value 0.0)>,\n",
       " <gurobi.Var real time purchase[56] (value 0.0)>,\n",
       " <gurobi.Var real time purchase[57] (value 0.0)>,\n",
       " <gurobi.Var real time purchase[58] (value 0.0)>,\n",
       " <gurobi.Var real time purchase[59] (value 0.0)>,\n",
       " <gurobi.Var real time purchase[60] (value 0.0)>,\n",
       " <gurobi.Var real time purchase[61] (value 0.0)>,\n",
       " <gurobi.Var real time purchase[62] (value 0.0)>,\n",
       " <gurobi.Var real time purchase[63] (value 0.0)>,\n",
       " <gurobi.Var real time purchase[64] (value 0.0)>,\n",
       " <gurobi.Var real time purchase[65] (value 0.0)>,\n",
       " <gurobi.Var real time purchase[66] (value 0.0)>,\n",
       " <gurobi.Var real time purchase[67] (value 0.0)>,\n",
       " <gurobi.Var real time purchase[68] (value 0.0)>,\n",
       " <gurobi.Var real time purchase[69] (value 0.0)>,\n",
       " <gurobi.Var real time purchase[70] (value 0.0)>,\n",
       " <gurobi.Var real time purchase[71] (value 0.0)>,\n",
       " <gurobi.Var real time purchase[72] (value 0.0)>,\n",
       " <gurobi.Var real time purchase[73] (value 0.0)>,\n",
       " <gurobi.Var real time purchase[74] (value 0.0)>,\n",
       " <gurobi.Var real time purchase[75] (value 0.0)>,\n",
       " <gurobi.Var real time purchase[76] (value 0.0)>,\n",
       " <gurobi.Var real time purchase[77] (value 0.0)>,\n",
       " <gurobi.Var real time purchase[78] (value 0.0)>,\n",
       " <gurobi.Var real time purchase[79] (value 0.0)>,\n",
       " <gurobi.Var real time purchase[80] (value 0.0)>,\n",
       " <gurobi.Var real time purchase[81] (value 0.0)>,\n",
       " <gurobi.Var real time purchase[82] (value 0.0)>,\n",
       " <gurobi.Var real time purchase[83] (value 0.0)>,\n",
       " <gurobi.Var real time purchase[84] (value 0.0)>,\n",
       " <gurobi.Var real time purchase[85] (value 0.0)>,\n",
       " <gurobi.Var real time purchase[86] (value 0.0)>,\n",
       " <gurobi.Var real time purchase[87] (value 0.0)>,\n",
       " <gurobi.Var real time purchase[88] (value 0.0)>,\n",
       " <gurobi.Var real time purchase[89] (value 0.0)>,\n",
       " <gurobi.Var real time purchase[90] (value 0.0)>,\n",
       " <gurobi.Var real time purchase[91] (value 0.0)>,\n",
       " <gurobi.Var real time purchase[92] (value 0.0)>,\n",
       " <gurobi.Var real time purchase[93] (value 0.0)>,\n",
       " <gurobi.Var real time purchase[94] (value 0.0)>,\n",
       " <gurobi.Var real time purchase[95] (value 0.0)>,\n",
       " <gurobi.Var real time purchase[96] (value 0.0)>,\n",
       " <gurobi.Var real time purchase[97] (value 0.0)>,\n",
       " <gurobi.Var real time purchase[98] (value 0.0)>,\n",
       " <gurobi.Var real time purchase[99] (value 0.0)>]"
      ]
     },
     "execution_count": 77,
     "metadata": {},
     "output_type": "execute_result"
    }
   ],
   "source": [
    "model.getVars()"
   ]
  },
  {
   "cell_type": "code",
   "execution_count": 78,
   "metadata": {},
   "outputs": [
    {
     "name": "stdout",
     "output_type": "stream",
     "text": [
      "Minimize\n",
      "<gurobi.LinExpr: long term purchase + 0.5056459220719818 real time purchase[0]\n",
      "+ 0.3378977159029185 real time purchase[1] + 0.41473942997627283 real time purchase[2]\n",
      "+ 0.22169177553529051 real time purchase[3] + 0.1350733255195677 real time purchase[4]\n",
      "+ 0.0909922529373087 real time purchase[5] + 0.0962236642748919 real time purchase[6]\n",
      "+ 0.0619193276350017 real time purchase[7] + 0.0338755324318914 real time purchase[8]\n",
      "+ 0.0285583602527085 real time purchase[9] + 0.028043795203109997 real time purchase[10]\n",
      "+ 0.0217832537663301 real time purchase[11] + 0.0267573825791142 real time purchase[12]\n",
      "+ 0.0249564049055199 real time purchase[13] + 0.0277865126783109 real time purchase[14]\n",
      "+ 0.026585860895914804 real time purchase[15]\n",
      "+ 0.0219547754495295 real time purchase[16] + 0.0242703181727223 real time purchase[17]\n",
      "+ 0.0235842314399244 real time purchase[18] + 0.0204968411423343 real time purchase[19]\n",
      "+ 0.0194677110431376 real time purchase[20] + 0.0223835796575283 real time purchase[21]\n",
      "+ 0.0198107544095364 real time purchase[22]\n",
      "+ 0.019124667676738802 real time purchase[23]\n",
      "+ 0.015779994854349298 real time purchase[24]\n",
      "+ 0.0164660815871472 real time purchase[25] + 0.0180097767359421 real time purchase[26]\n",
      "+ 0.014922386438352 real time purchase[27] + 0.0170664074783451 real time purchase[28]\n",
      "+ 0.014750864755152599 real time purchase[29]\n",
      "+ 0.0145793430719532 real time purchase[30] + 0.0125210828735598 real time purchase[31]\n",
      "+ 0.014665103913552899 real time purchase[32]\n",
      "+ 0.015608473171149901 real time purchase[33] + 0.015865755695949 real time purchase[34]\n",
      "+ 0.015608473171149901 real time purchase[35]\n",
      "+ 0.0168948857951457 real time purchase[36] + 0.0183528201023412 real time purchase[37]\n",
      "+ 0.0217832537663301 real time purchase[38] + 0.0242703181727223 real time purchase[39]\n",
      "+ 0.0234984705983247 real time purchase[40]\n",
      "+ 0.027529230153511802 real time purchase[41] + 0.025299448271919 real time purchase[42]\n",
      "+ 0.0297590120351046 real time purchase[43]\n",
      "+ 0.032589119807895604 real time purchase[44]\n",
      "+ 0.0301020554015034 real time purchase[45] + 0.0335324890654926 real time purchase[46]\n",
      "+ 0.0248706440639202 real time purchase[47] + 0.0197249935679367 real time purchase[48]\n",
      "+ 0.014407821388753801 real time purchase[49]\n",
      "+ 0.0106343443583658 real time purchase[50] + 0.0061747805951802 real time purchase[51]\n",
      "+ 0.0060890197535805 real time purchase[52] + 0.0219547754495295 real time purchase[53]\n",
      "+ 0.0164660815871472 real time purchase[54] + 0.0252136874303193 real time purchase[55]\n",
      "+ 0.018524341785540598 real time purchase[56] + 0.012178039507161 real time purchase[57]\n",
      "+ 0.009776735942368501 real time purchase[58]\n",
      "+ 0.006860867327977799 real time purchase[59]\n",
      "+ 0.0090048883679709 real time purchase[60]\n",
      "+ 0.006432063119979299 real time purchase[61]\n",
      "+ 0.0048026071295844 real time purchase[62]\n",
      "+ 0.0038592378719873996 real time purchase[63]\n",
      "+ 0.0041165203967868 real time purchase[64]\n",
      "+ 0.0026585860895912998 real time purchase[65]\n",
      "+ 0.002744346931191 real time purchase[66] + 0.0028301077727907 real time purchase[67]\n",
      "+ 0.002744346931191 real time purchase[68] + 0.002744346931191 real time purchase[69]\n",
      "+ 0.0025728252479916 real time purchase[70]\n",
      "+ 0.0015436951487948999 real time purchase[71]\n",
      "+ 0.0019724993567934 real time purchase[72] + 0.0018867385151937 real time purchase[73]\n",
      "+ 0.0023155427231925 real time purchase[74]\n",
      "+ 0.0011148909407963999 real time purchase[75]\n",
      "+ 0.0024013035647922 real time purchase[76] + 0.0017152168319943 real time purchase[77]\n",
      "+ 0.0017152168319943 real time purchase[78]\n",
      "+ 0.0015436951487948999 real time purchase[79]\n",
      "+ 0.0017152168319943 real time purchase[80]\n",
      "+ 0.0015436951487948999 real time purchase[81]\n",
      "+ 0.0018867385151937 real time purchase[82]\n",
      "+ 0.0015436951487948999 real time purchase[83]\n",
      "+ 0.0011148909407963999 real time purchase[84]\n",
      "+ 0.0016294559903946002 real time purchase[85]\n",
      "+ 0.0012006517823961 real time purchase[86]\n",
      "+ 0.0011148909407963999 real time purchase[87]\n",
      "+ 0.0013721734655955 real time purchase[88] + 0.0014579343071952 real time purchase[89]\n",
      "+ 0.0012864126239958 real time purchase[90]\n",
      "+ 0.0007718475743973001 real time purchase[91]\n",
      "+ 0.0011148909407963999 real time purchase[92]\n",
      "+ 0.0006860867327976 real time purchase[93]\n",
      "+ 0.0011148909407963999 real time purchase[94]\n",
      "+ 0.0006860867327976 real time purchase[95] + 0.0012864126239958 real time purchase[96]\n",
      "+ 0.0007718475743973001 real time purchase[97]\n",
      "+ 0.0005145650495981999 real time purchase[98]\n",
      "+ 0.0005145650495981999 real time purchase[99]>\n",
      "Subject To\n",
      "  R0: <gurobi.LinExpr: long term purchase + real time purchase[0]> >= 10\n",
      "  R1: <gurobi.LinExpr: long term purchase + real time purchase[1]> >= 9.94455\n",
      "  R2: <gurobi.LinExpr: long term purchase + real time purchase[2]> >= 9.8891\n",
      "  R3: <gurobi.LinExpr: long term purchase + real time purchase[3]> >= 9.83365\n",
      "  R4: <gurobi.LinExpr: long term purchase + real time purchase[4]> >= 9.7782\n",
      "  R5: <gurobi.LinExpr: long term purchase + real time purchase[5]> >= 9.72275\n",
      "  R6: <gurobi.LinExpr: long term purchase + real time purchase[6]> >= 9.6673\n",
      "  R7: <gurobi.LinExpr: long term purchase + real time purchase[7]> >= 9.61185\n",
      "  R8: <gurobi.LinExpr: long term purchase + real time purchase[8]> >= 9.5564\n",
      "  R9: <gurobi.LinExpr: long term purchase + real time purchase[9]> >= 9.50095\n",
      "  R10: <gurobi.LinExpr: long term purchase + real time purchase[10]> >= 9.4455\n",
      "  R11: <gurobi.LinExpr: long term purchase + real time purchase[11]> >= 9.39005\n",
      "  R12: <gurobi.LinExpr: long term purchase + real time purchase[12]> >= 9.3346\n",
      "  R13: <gurobi.LinExpr: long term purchase + real time purchase[13]> >= 9.27915\n",
      "  R14: <gurobi.LinExpr: long term purchase + real time purchase[14]> >= 9.2237\n",
      "  R15: <gurobi.LinExpr: long term purchase + real time purchase[15]> >= 9.16825\n",
      "  R16: <gurobi.LinExpr: long term purchase + real time purchase[16]> >= 9.1128\n",
      "  R17: <gurobi.LinExpr: long term purchase + real time purchase[17]> >= 9.05735\n",
      "  R18: <gurobi.LinExpr: long term purchase + real time purchase[18]> >= 9.0019\n",
      "  R19: <gurobi.LinExpr: long term purchase + real time purchase[19]> >= 8.94645\n",
      "  R20: <gurobi.LinExpr: long term purchase + real time purchase[20]> >= 8.891\n",
      "  R21: <gurobi.LinExpr: long term purchase + real time purchase[21]> >= 8.83555\n",
      "  R22: <gurobi.LinExpr: long term purchase + real time purchase[22]> >= 8.7801\n",
      "  R23: <gurobi.LinExpr: long term purchase + real time purchase[23]> >= 8.72465\n",
      "  R24: <gurobi.LinExpr: long term purchase + real time purchase[24]> >= 8.6692\n",
      "  R25: <gurobi.LinExpr: long term purchase + real time purchase[25]> >= 8.61375\n",
      "  R26: <gurobi.LinExpr: long term purchase + real time purchase[26]> >= 8.5583\n",
      "  R27: <gurobi.LinExpr: long term purchase + real time purchase[27]> >= 8.50285\n",
      "  R28: <gurobi.LinExpr: long term purchase + real time purchase[28]> >= 8.4474\n",
      "  R29: <gurobi.LinExpr: long term purchase + real time purchase[29]> >= 8.39195\n",
      "  R30: <gurobi.LinExpr: long term purchase + real time purchase[30]> >= 8.3365\n",
      "  R31: <gurobi.LinExpr: long term purchase + real time purchase[31]> >= 8.28105\n",
      "  R32: <gurobi.LinExpr: long term purchase + real time purchase[32]> >= 8.2256\n",
      "  R33: <gurobi.LinExpr: long term purchase + real time purchase[33]> >= 8.17015\n",
      "  R34: <gurobi.LinExpr: long term purchase + real time purchase[34]> >= 8.1147\n",
      "  R35: <gurobi.LinExpr: long term purchase + real time purchase[35]> >= 8.05925\n",
      "  R36: <gurobi.LinExpr: long term purchase + real time purchase[36]> >= 8.0038\n",
      "  R37: <gurobi.LinExpr: long term purchase + real time purchase[37]> >= 7.94835\n",
      "  R38: <gurobi.LinExpr: long term purchase + real time purchase[38]> >= 7.8929\n",
      "  R39: <gurobi.LinExpr: long term purchase + real time purchase[39]> >= 7.83745\n",
      "  R40: <gurobi.LinExpr: long term purchase + real time purchase[40]> >= 7.782\n",
      "  R41: <gurobi.LinExpr: long term purchase + real time purchase[41]> >= 7.72655\n",
      "  R42: <gurobi.LinExpr: long term purchase + real time purchase[42]> >= 7.6711\n",
      "  R43: <gurobi.LinExpr: long term purchase + real time purchase[43]> >= 7.61565\n",
      "  R44: <gurobi.LinExpr: long term purchase + real time purchase[44]> >= 7.5602\n",
      "  R45: <gurobi.LinExpr: long term purchase + real time purchase[45]> >= 7.50475\n",
      "  R46: <gurobi.LinExpr: long term purchase + real time purchase[46]> >= 7.4493\n",
      "  R47: <gurobi.LinExpr: long term purchase + real time purchase[47]> >= 7.39385\n",
      "  R48: <gurobi.LinExpr: long term purchase + real time purchase[48]> >= 7.3384\n",
      "  R49: <gurobi.LinExpr: long term purchase + real time purchase[49]> >= 7.28295\n",
      "  R50: <gurobi.LinExpr: long term purchase + real time purchase[50]> >= 7.2275\n",
      "  R51: <gurobi.LinExpr: long term purchase + real time purchase[51]> >= 7.17205\n",
      "  R52: <gurobi.LinExpr: long term purchase + real time purchase[52]> >= 7.1166\n",
      "  R53: <gurobi.LinExpr: long term purchase + real time purchase[53]> >= 7.06115\n",
      "  R54: <gurobi.LinExpr: long term purchase + real time purchase[54]> >= 7.0057\n",
      "  R55: <gurobi.LinExpr: long term purchase + real time purchase[55]> >= 6.95025\n",
      "  R56: <gurobi.LinExpr: long term purchase + real time purchase[56]> >= 6.8948\n",
      "  R57: <gurobi.LinExpr: long term purchase + real time purchase[57]> >= 6.83935\n",
      "  R58: <gurobi.LinExpr: long term purchase + real time purchase[58]> >= 6.7839\n",
      "  R59: <gurobi.LinExpr: long term purchase + real time purchase[59]> >= 6.72845\n",
      "  R60: <gurobi.LinExpr: long term purchase + real time purchase[60]> >= 6.673\n",
      "  R61: <gurobi.LinExpr: long term purchase + real time purchase[61]> >= 6.61755\n",
      "  R62: <gurobi.LinExpr: long term purchase + real time purchase[62]> >= 6.5621\n",
      "  R63: <gurobi.LinExpr: long term purchase + real time purchase[63]> >= 6.50665\n",
      "  R64: <gurobi.LinExpr: long term purchase + real time purchase[64]> >= 6.4512\n",
      "  R65: <gurobi.LinExpr: long term purchase + real time purchase[65]> >= 6.39575\n",
      "  R66: <gurobi.LinExpr: long term purchase + real time purchase[66]> >= 6.3403\n",
      "  R67: <gurobi.LinExpr: long term purchase + real time purchase[67]> >= 6.28485\n",
      "  R68: <gurobi.LinExpr: long term purchase + real time purchase[68]> >= 6.2294\n",
      "  R69: <gurobi.LinExpr: long term purchase + real time purchase[69]> >= 6.17395\n",
      "  R70: <gurobi.LinExpr: long term purchase + real time purchase[70]> >= 6.1185\n",
      "  R71: <gurobi.LinExpr: long term purchase + real time purchase[71]> >= 6.06305\n",
      "  R72: <gurobi.LinExpr: long term purchase + real time purchase[72]> >= 6.0076\n",
      "  R73: <gurobi.LinExpr: long term purchase + real time purchase[73]> >= 5.95215\n",
      "  R74: <gurobi.LinExpr: long term purchase + real time purchase[74]> >= 5.8967\n",
      "  R75: <gurobi.LinExpr: long term purchase + real time purchase[75]> >= 5.84125\n",
      "  R76: <gurobi.LinExpr: long term purchase + real time purchase[76]> >= 5.7858\n",
      "  R77: <gurobi.LinExpr: long term purchase + real time purchase[77]> >= 5.73035\n",
      "  R78: <gurobi.LinExpr: long term purchase + real time purchase[78]> >= 5.6749\n",
      "  R79: <gurobi.LinExpr: long term purchase + real time purchase[79]> >= 5.61945\n",
      "  R80: <gurobi.LinExpr: long term purchase + real time purchase[80]> >= 5.564\n",
      "  R81: <gurobi.LinExpr: long term purchase + real time purchase[81]> >= 5.50855\n",
      "  R82: <gurobi.LinExpr: long term purchase + real time purchase[82]> >= 5.4531\n",
      "  R83: <gurobi.LinExpr: long term purchase + real time purchase[83]> >= 5.39765\n",
      "  R84: <gurobi.LinExpr: long term purchase + real time purchase[84]> >= 5.3422\n",
      "  R85: <gurobi.LinExpr: long term purchase + real time purchase[85]> >= 5.28675\n",
      "  R86: <gurobi.LinExpr: long term purchase + real time purchase[86]> >= 5.2313\n",
      "  R87: <gurobi.LinExpr: long term purchase + real time purchase[87]> >= 5.17585\n",
      "  R88: <gurobi.LinExpr: long term purchase + real time purchase[88]> >= 5.1204\n",
      "  R89: <gurobi.LinExpr: long term purchase + real time purchase[89]> >= 5.06495\n",
      "  R90: <gurobi.LinExpr: long term purchase + real time purchase[90]> >= 5.0095\n",
      "  R91: <gurobi.LinExpr: long term purchase + real time purchase[91]> >= 4.95405\n",
      "  R92: <gurobi.LinExpr: long term purchase + real time purchase[92]> >= 4.8986\n",
      "  R93: <gurobi.LinExpr: long term purchase + real time purchase[93]> >= 4.84315\n",
      "  R94: <gurobi.LinExpr: long term purchase + real time purchase[94]> >= 4.7877\n",
      "  R95: <gurobi.LinExpr: long term purchase + real time purchase[95]> >= 4.73225\n",
      "  R96: <gurobi.LinExpr: long term purchase + real time purchase[96]> >= 4.6768\n",
      "  R97: <gurobi.LinExpr: long term purchase + real time purchase[97]> >= 4.62135\n",
      "  R98: <gurobi.LinExpr: long term purchase + real time purchase[98]> >= 4.5659\n",
      "  R99: <gurobi.LinExpr: long term purchase + real time purchase[99]> >= 4.51045\n"
     ]
    }
   ],
   "source": [
    "model.display()"
   ]
  },
  {
   "cell_type": "code",
   "execution_count": 79,
   "metadata": {},
   "outputs": [],
   "source": [
    "test_1 = np.random.normal(20, 5, 100000)\n",
    "test_2 = np.random.normal(40, 9, 100000)\n",
    "test_3 = np.random.normal(60, 12, 100000)"
   ]
  },
  {
   "cell_type": "code",
   "execution_count": 80,
   "metadata": {},
   "outputs": [
    {
     "data": {
      "image/png": "[encoded data removed]",
      "text/plain": [
       "<Figure size 432x288 with 1 Axes>"
      ]
     },
     "metadata": {},
     "output_type": "display_data"
    }
   ],
   "source": [
    "probas_1, values_1, _ = plt.hist(test_1, bins=200, density=True)\n",
    "probas_2, values_2, _ = plt.hist(test_2, bins=200, density=True)\n",
    "probas_3, values_3, _ = plt.hist(test_3, bins=200, density=True)\n",
    "\n",
    "probas_1 = probas_1 / probas_1.sum()\n",
    "probas_2 = probas_2 / probas_2.sum()\n",
    "probas_3 = probas_3 / probas_3.sum()"
   ]
  },
  {
   "cell_type": "code",
   "execution_count": 109,
   "metadata": {},
   "outputs": [],
   "source": [
    "a_1 = stats.rv_histogram([probas_1, values_1])\n",
    "a_2 = stats.rv_histogram([probas_2, values_2])\n",
    "a_3 = stats.rv_histogram([probas_3, values_3])"
   ]
  },
  {
   "cell_type": "code",
   "execution_count": 82,
   "metadata": {},
   "outputs": [
    {
     "data": {
      "text/plain": [
       "(-5.393057316590415, 42.32209240880277)"
      ]
     },
     "execution_count": 82,
     "metadata": {},
     "output_type": "execute_result"
    }
   ],
   "source": [
    "a_1.support()"
   ]
  },
  {
   "cell_type": "code",
   "execution_count": 83,
   "metadata": {},
   "outputs": [
    {
     "data": {
      "text/plain": [
       "array([0.])"
      ]
     },
     "execution_count": 83,
     "metadata": {},
     "output_type": "execute_result"
    }
   ],
   "source": [
    "a_1.pdf(np.arange(-0.28865873526385855, 41.976889251141884, 100))"
   ]
  },
  {
   "cell_type": "code",
   "execution_count": 84,
   "metadata": {},
   "outputs": [
    {
     "data": {
      "text/plain": [
       "array([-5.39305732, -4.91108611, -4.4291149 , -3.94714369, -3.46517248,\n",
       "       -2.98320127, -2.50123006, -2.01925885, -1.53728764, -1.05531643,\n",
       "       -0.57334522, -0.09137401,  0.3905972 ,  0.8725684 ,  1.35453961,\n",
       "        1.83651082,  2.31848203,  2.80045324,  3.28242445,  3.76439566,\n",
       "        4.24636687,  4.72833808,  5.21030929,  5.6922805 ,  6.17425171,\n",
       "        6.65622292,  7.13819413,  7.62016534,  8.10213655,  8.58410775,\n",
       "        9.06607896,  9.54805017, 10.03002138, 10.51199259, 10.9939638 ,\n",
       "       11.47593501, 11.95790622, 12.43987743, 12.92184864, 13.40381985,\n",
       "       13.88579106, 14.36776227, 14.84973348, 15.33170469, 15.81367589,\n",
       "       16.2956471 , 16.77761831, 17.25958952, 17.74156073, 18.22353194,\n",
       "       18.70550315, 19.18747436, 19.66944557, 20.15141678, 20.63338799,\n",
       "       21.1153592 , 21.59733041, 22.07930162, 22.56127283, 23.04324403,\n",
       "       23.52521524, 24.00718645, 24.48915766, 24.97112887, 25.45310008,\n",
       "       25.93507129, 26.4170425 , 26.89901371, 27.38098492, 27.86295613,\n",
       "       28.34492734, 28.82689855, 29.30886976, 29.79084097, 30.27281218,\n",
       "       30.75478338, 31.23675459, 31.7187258 , 32.20069701, 32.68266822,\n",
       "       33.16463943, 33.64661064, 34.12858185, 34.61055306, 35.09252427,\n",
       "       35.57449548, 36.05646669, 36.5384379 , 37.02040911, 37.50238032,\n",
       "       37.98435152, 38.46632273, 38.94829394, 39.43026515, 39.91223636,\n",
       "       40.39420757, 40.87617878, 41.35814999, 41.8401212 , 42.32209241])"
      ]
     },
     "execution_count": 84,
     "metadata": {},
     "output_type": "execute_result"
    }
   ],
   "source": [
    "np.linspace(*a_1.support(), 100)"
   ]
  },
  {
   "cell_type": "code",
   "execution_count": 85,
   "metadata": {},
   "outputs": [
    {
     "data": {
      "text/plain": [
       "array([0.        , 0.00020958, 0.00025149, 0.00062873])"
      ]
     },
     "execution_count": 85,
     "metadata": {},
     "output_type": "execute_result"
    }
   ],
   "source": [
    "a_1.pdf([1,2,3,4])"
   ]
  },
  {
   "cell_type": "code",
   "execution_count": 111,
   "metadata": {},
   "outputs": [
    {
     "data": {
      "image/png": "[encoded data removed]",
      "text/plain": [
       "<Figure size 432x288 with 1 Axes>"
      ]
     },
     "metadata": {},
     "output_type": "display_data"
    }
   ],
   "source": [
    "fig, ax = plt.subplots()\n",
    "\n",
    "ax.plot(np.linspace(*a_1.support(), 100), a_1.pdf(np.linspace(*a_1.support(), 100)))\n",
    "ax.plot(np.linspace(*a_2.support(), 100), a_2.pdf(np.linspace(*a_2.support(), 100)))\n",
    "ax.plot(np.linspace(*a_3.support(), 100), a_3.pdf(np.linspace(*a_3.support(), 100)))\n",
    "\n",
    "fig;"
   ]
  },
  {
   "cell_type": "code",
   "execution_count": 87,
   "metadata": {},
   "outputs": [
    {
     "data": {
      "text/plain": [
       "[<matplotlib.lines.Line2D at 0x28459b250>]"
      ]
     },
     "execution_count": 87,
     "metadata": {},
     "output_type": "execute_result"
    },
    {
     "data": {
      "image/png": "[encoded data removed]",
      "text/plain": [
       "<Figure size 432x288 with 1 Axes>"
      ]
     },
     "metadata": {},
     "output_type": "display_data"
    }
   ],
   "source": [
    "supp = np.sort(np.concatenate([np.linspace(*a_1.support(), 1000), np.linspace(*a_2.support(), 1000), np.linspace(*a_3.support(), 1000)]))\n",
    "\n",
    "plt.plot(supp, 0.3333 * (a_1.pdf(supp) + a_2.pdf(supp) + a_3.pdf(supp)))"
   ]
  },
  {
   "cell_type": "code",
   "execution_count": 99,
   "metadata": {},
   "outputs": [
    {
     "data": {
      "text/plain": [
       "[<matplotlib.lines.Line2D at 0x14facc520>]"
      ]
     },
     "execution_count": 99,
     "metadata": {},
     "output_type": "execute_result"
    },
    {
     "data": {
      "image/png": "[encoded data removed]",
      "text/plain": [
       "<Figure size 432x288 with 1 Axes>"
      ]
     },
     "metadata": {},
     "output_type": "display_data"
    }
   ],
   "source": [
    "plt.plot(supp, new_rv.pdf(supp))"
   ]
  },
  {
   "cell_type": "code",
   "execution_count": 88,
   "metadata": {},
   "outputs": [],
   "source": [
    "a_1 = [probas_1, values_1]\n",
    "a_2 = [probas_2, values_2]\n",
    "a_3 = [probas_3, values_3]"
   ]
  },
  {
   "cell_type": "code",
   "execution_count": 89,
   "metadata": {},
   "outputs": [],
   "source": [
    "def distribution(probabilities, values):\n",
    "    dist = stats.rv_histogram([probabilities, values])\n",
    "\n",
    "    return dist"
   ]
  },
  {
   "cell_type": "code",
   "execution_count": 90,
   "metadata": {},
   "outputs": [],
   "source": [
    "b_1 = distribution(*a_1)\n",
    "b_2 = distribution(*a_2)\n",
    "b_3 = distribution(*a_3)"
   ]
  },
  {
   "cell_type": "code",
   "execution_count": 91,
   "metadata": {},
   "outputs": [],
   "source": [
    "quantiles = np.linspace(0, 1, 3000)"
   ]
  },
  {
   "cell_type": "code",
   "execution_count": 92,
   "metadata": {},
   "outputs": [],
   "source": [
    "ppf_sum = b_1.ppf(quantiles) + b_2.ppf(quantiles) + b_3.ppf(quantiles)\n",
    "\n",
    "def func_1(*quantile):\n",
    "    ppf_total = 0.33*(b_1.ppf(*quantile) + b_2.ppf(*quantile) + b_3.ppf(*quantile))\n",
    "    return ppf_total"
   ]
  },
  {
   "cell_type": "code",
   "execution_count": 93,
   "metadata": {},
   "outputs": [],
   "source": [
    "from scipy.stats import rv_continuous\n",
    "\n",
    "class my_rv(rv_continuous):\n",
    "    def _ppf(self, x):\n",
    "        return func_1(x)"
   ]
  },
  {
   "cell_type": "code",
   "execution_count": 94,
   "metadata": {},
   "outputs": [],
   "source": [
    "rv = my_rv()\n",
    "\n",
    "new_data = rv.rvs(size=1000000)\n"
   ]
  },
  {
   "cell_type": "code",
   "execution_count": 95,
   "metadata": {},
   "outputs": [
    {
     "data": {
      "image/png": "[encoded data removed]",
      "text/plain": [
       "<Figure size 432x288 with 1 Axes>"
      ]
     },
     "metadata": {},
     "output_type": "display_data"
    }
   ],
   "source": [
    "probas_res, values_res, _ = plt.hist(new_data, bins = 200)"
   ]
  },
  {
   "cell_type": "code",
   "execution_count": 96,
   "metadata": {},
   "outputs": [],
   "source": [
    "new_rv = stats.rv_histogram([probas_res, values_res])"
   ]
  },
  {
   "cell_type": "code",
   "execution_count": 97,
   "metadata": {},
   "outputs": [
    {
     "data": {
      "text/plain": [
       "[<matplotlib.lines.Line2D at 0x17f05b1c0>]"
      ]
     },
     "execution_count": 97,
     "metadata": {},
     "output_type": "execute_result"
    },
    {
     "data": {
      "image/png": "[encoded data removed]",
      "text/plain": [
       "<Figure size 432x288 with 1 Axes>"
      ]
     },
     "metadata": {},
     "output_type": "display_data"
    }
   ],
   "source": [
    "plt.plot(supp, new_rv.cdf(supp))"
   ]
  },
  {
   "cell_type": "code",
   "execution_count": 98,
   "metadata": {},
   "outputs": [
    {
     "data": {
      "text/plain": [
       "[<matplotlib.lines.Line2D at 0x16fdd5eb0>]"
      ]
     },
     "execution_count": 98,
     "metadata": {},
     "output_type": "execute_result"
    },
    {
     "data": {
      "image/png": "[encoded data removed]",
      "text/plain": [
       "<Figure size 432x288 with 1 Axes>"
      ]
     },
     "metadata": {},
     "output_type": "display_data"
    }
   ],
   "source": [
    "plt.plot(func_1(quantiles), quantiles)"
   ]
  },
  {
   "cell_type": "code",
   "execution_count": 57,
   "metadata": {},
   "outputs": [
    {
     "data": {
      "image/png": "[encoded data removed]",
      "text/plain": [
       "<Figure size 432x288 with 1 Axes>"
      ]
     },
     "metadata": {},
     "output_type": "display_data"
    }
   ],
   "source": [
    "plt.plot(ppf_sum, quantiles);"
   ]
  },
  {
   "cell_type": "code",
   "execution_count": 35,
   "metadata": {},
   "outputs": [
    {
     "data": {
      "text/plain": [
       "[<matplotlib.lines.Line2D at 0x14ff42400>]"
      ]
     },
     "execution_count": 35,
     "metadata": {},
     "output_type": "execute_result"
    },
    {
     "data": {
      "image/png": "[encoded data removed]",
      "text/plain": [
       "<Figure size 432x288 with 1 Axes>"
      ]
     },
     "metadata": {},
     "output_type": "display_data"
    }
   ],
   "source": [
    "plt.plot(ppf_sum, cdf)"
   ]
  },
  {
   "cell_type": "code",
   "execution_count": 346,
   "metadata": {},
   "outputs": [
    {
     "data": {
      "text/plain": [
       "[<matplotlib.lines.Line2D at 0x156a18430>]"
      ]
     },
     "execution_count": 346,
     "metadata": {},
     "output_type": "execute_result"
    },
    {
     "data": {
      "image/png": "[encoded data removed]",
      "text/plain": [
       "<Figure size 432x288 with 1 Axes>"
      ]
     },
     "metadata": {},
     "output_type": "display_data"
    }
   ],
   "source": [
    "plt.plot(quantiles, b_1.cdf(b_1.ppf(quantiles)))"
   ]
  },
  {
   "cell_type": "code",
   "execution_count": 349,
   "metadata": {},
   "outputs": [
    {
     "data": {
      "text/plain": [
       "[<matplotlib.lines.Line2D at 0x147a9a6a0>]"
      ]
     },
     "execution_count": 349,
     "metadata": {},
     "output_type": "execute_result"
    }
   ],
   "source": []
  },
  {
   "cell_type": "code",
   "execution_count": null,
   "metadata": {},
   "outputs": [],
   "source": []
  }
 ],
 "metadata": {
  "kernelspec": {
   "display_name": "Python 3.9.12 64-bit",
   "language": "python",
   "name": "python3"
  },
  "language_info": {
   "codemirror_mode": {
    "name": "ipython",
    "version": 3
   },
   "file_extension": ".py",
   "mimetype": "text/x-python",
   "name": "python",
   "nbconvert_exporter": "python",
   "pygments_lexer": "ipython3",
   "version": "3.9.12"
  },
  "orig_nbformat": 4,
  "vscode": {
   "interpreter": {
    "hash": "b0fa6594d8f4cbf19f97940f81e996739fb7646882a419484c72d19e05852a7e"
   }
  }
 },
 "nbformat": 4,
 "nbformat_minor": 2
}
